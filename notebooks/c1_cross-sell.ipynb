{
 "cells": [
  {
   "cell_type": "markdown",
   "metadata": {},
   "source": [
    "# Health Insurance Cross-Sell\n",
    "---"
   ]
  },
  {
   "cell_type": "markdown",
   "metadata": {},
   "source": [
    "The Insurance All company provides health insurance to your clients as main service for a long time, however, the sales team in interested in offering a new service: A car insurance.\n",
    "\n",
    "Customers with the company service must pay an amount annually in order to be insured for an eventual incident. Last year, the marketing team conducted a survey with 380,000 people asking about some interest in joining into a new car insurance. The responses from clients who showed interest or not in purchasing an auto insurance were saved in a database with others attributes. The product team selected 127,000 new customers who did not respond to the survey to participate in a campaign, in which they will receive an offer of the new car insurance product. The offer will be made by the sales team through phone calls. However, the sales team has the capacity to make 20 thousand calls within the campaign period.\n",
    "\n",
    "As a Data Scientist, your goal is to build a model that classifies a list of customers, informing the customer's possibility of contracting or not a car insurance. With the solution, the sales team hopes to be able to prioritize people with the greatest interest in the new product and thus optimize the campaign by only making contact with the customers most likely to make a purchase. In addition to the model, a report will be delivered containing the following information:\n",
    "\n",
    "1. Key Insights on the most relevant attributes of customers interested in purchasing auto insurance.Key Insights with the most relevant attributes of selected customers in purchasing auto insurance.\n",
    "2. What percentage of interested customers the sales team will be able to contact making 20,000 calls?\n",
    "3. By increasing the capacity to 40,000 calls, what percentage of interested customers the sales team will be able to contact?\n",
    "4. How many calls does sales team need to make to reach 80% of the most likely customers to purchase the car insurance?\n"
   ]
  },
  {
   "cell_type": "markdown",
   "metadata": {},
   "source": [
    "> Disclaimer: This is a fictional bussiness case"
   ]
  },
  {
   "cell_type": "markdown",
   "metadata": {},
   "source": [
    "## PLANNING"
   ]
  },
  {
   "cell_type": "markdown",
   "metadata": {},
   "source": [
    "### Input\n",
    "\n",
    "- Predict wheter customer will be interested in the car insurance;\n",
    "- Database with customers answers and info."
   ]
  },
  {
   "cell_type": "markdown",
   "metadata": {},
   "source": [
    "### Output\n",
    "\n",
    "- Customers interested in car insurance;\n",
    "- Performance of the model;\n",
    "- Percentage of the customers reached with calls;\n",
    "- Report"
   ]
  },
  {
   "cell_type": "markdown",
   "metadata": {},
   "source": [
    "### Tasks\n",
    "\n",
    "1. Which customer will be interested in the insurance?\n",
    "    - Which customers have a DL?\n",
    "    - What is the vehicle age range with more interested customer?\n",
    "\n",
    "2. Performance of the model:\n",
    "    - Cumulative Gain\n",
    "    - Lift Curve\n",
    "\n",
    "3. Action plan:\n",
    "    - Phone Calls with the customers with the highest probability to take out the insurance"
   ]
  },
  {
   "cell_type": "markdown",
   "metadata": {},
   "source": [
    "## IMPORTS"
   ]
  },
  {
   "cell_type": "code",
   "execution_count": 1,
   "metadata": {},
   "outputs": [],
   "source": [
    "import pandas as pd\n",
    "import numpy as np\n",
    "import matplotlib.pyplot        as plt\n",
    "import seaborn as sns\n",
    "import psycopg2 as pg\n",
    "\n",
    "from sklearn.ensemble                       import RandomForestClassifier\n",
    "from sklearn.linear_model                   import LogisticRegression\n",
    "from sklearn.metrics                        import accuracy_score, f1_score, precision_score, recall_score, roc_auc_score \n",
    "from sklearn.preprocessing                  import MinMaxScaler, RobustScaler\n",
    "from typing                                 import Union\n",
    "from IPython.core.display                   import HTML\n",
    "from sklearn.model_selection                import train_test_split"
   ]
  },
  {
   "cell_type": "markdown",
   "metadata": {},
   "source": [
    "## HELPER FUNCTIONS AND SETTINGS"
   ]
  },
  {
   "cell_type": "code",
   "execution_count": 2,
   "metadata": {},
   "outputs": [
    {
     "name": "stdout",
     "output_type": "stream",
     "text": [
      "Populating the interactive namespace from numpy and matplotlib\n"
     ]
    },
    {
     "data": {
      "text/html": [
       "<style>.container { width:100% !important; }</style>"
      ],
      "text/plain": [
       "<IPython.core.display.HTML object>"
      ]
     },
     "metadata": {},
     "output_type": "display_data"
    }
   ],
   "source": [
    "def numerical_metrics(numerical_attributes: Union[int, float]):\n",
    "    \"\"\"Shows the main values ​​for descriptive statistics in numerical variables.\n",
    "\n",
    "    Args:\n",
    "        numerical_attributes ([float64 and int64]): Insert all numerical attributes in the dataset\n",
    "\n",
    "    Returns:\n",
    "        [dataframe]: A dataframe with mean, median, std deviation, skewness, kurtosis, min, max and range\n",
    "    \"\"\"\n",
    "    \n",
    "    \n",
    "    data_mean = pd.DataFrame(numerical_attributes.apply(np.mean)).T\n",
    "    data_median = pd.DataFrame(numerical_attributes.apply(np.median)).T\n",
    "    data_std = pd.DataFrame(numerical_attributes.apply(np.std)).T\n",
    "    data_min = pd.DataFrame(numerical_attributes.apply(min)).T\n",
    "    data_max = pd.DataFrame(numerical_attributes.apply(max)).T\n",
    "    data_range = pd.DataFrame(numerical_attributes.apply(lambda x: x.max() - x.min())).T\n",
    "    data_q1 = pd.DataFrame(numerical_attributes.apply(lambda x: np.quantile(x, .25) )).T\n",
    "    data_q3 = pd.DataFrame(numerical_attributes.apply(lambda x: np.quantile(x, .75) )).T\n",
    "    data_skew = pd.DataFrame(numerical_attributes.apply(lambda x: x.skew())).T\n",
    "    data_kurtosis = pd.DataFrame(numerical_attributes.apply(lambda x: x.kurtosis())).T\n",
    "\n",
    "    num_attributes = pd.concat([data_min,data_max,data_range,data_mean,data_median, data_q1, data_q3,data_std,data_skew,data_kurtosis]).T.reset_index()\n",
    "    num_attributes.columns=['Attributes','Min','Max','Range','Mean','Median','Q1','Q3', 'St deviation','Skewness','Kurtosis']\n",
    "\n",
    "    return num_attributes\n",
    "\n",
    "\n",
    "def categorical_metrics(data: Union[int, str], col: str):\n",
    "\n",
    "    \"\"\"\n",
    "    Shows the the absolute and percent values in categorical variables.\n",
    "\n",
    "    Args:\n",
    "        data ([dataframe]): [Insert all categorical attributes in the dataset]\n",
    "\n",
    "    Returns:\n",
    "        [dataframe]: [A dataframe with absolute and percent values]\n",
    "    \"\"\"\n",
    "    \n",
    "\n",
    "    return pd.DataFrame({'absolute': data[col].value_counts(), 'percent %': data[col].value_counts(normalize = True) * 100 })\n",
    "\n",
    "\n",
    "def multiple_histplots(data: Union[int, float, str], rows: int, cols: int):\n",
    "\n",
    "\n",
    "    \"\"\"\n",
    "    Shows a matrix with hisplots of selected features.\n",
    "\n",
    "    Args:\n",
    "        data ([dataframe]): [Insert all categorical attributes in the dataset]\n",
    "        rows ([int]): [Insert the number of rows of the subplot]\n",
    "        cols ([int]): [Insert the number of columns of the subplot]\n",
    "\n",
    "    Returns:\n",
    "        [Image]: [A matrix plot with histplots]\n",
    "    \"\"\"\n",
    "\n",
    "\n",
    "    for i, col in enumerate(data.columns, 1):\n",
    "        plt.subplot(rows,cols,i)\n",
    "        ax = sns.histplot(data[col], kde = True)\n",
    "        plt.ylabel('')\n",
    "        plt.style.use('tableau-colorblind10')\n",
    "\n",
    "    return ax\n",
    "\n",
    "\n",
    "def model_metrics(models: str, X_test: Union[int, float, str], y_test: float):\n",
    "    \"\"\"Calculate Precision, Recall and F1\n",
    "\n",
    "    Args:\n",
    "        models[list]: [List of Machine Learning Algorithms]\n",
    "        X_test: [Features Test Dataframe]\n",
    "        y_test: [Target Feature Test DataFrame]\n",
    "\n",
    "    Returns:\n",
    "        [DataFrame]: [DataFrame with metrics]\n",
    "    \"\"\"\n",
    "\n",
    "    result_df = []\n",
    "    for model in models:\n",
    "        # model prediction\n",
    "        model_name = type(model).__name__\n",
    "        yhat = model.predict(X_test)\n",
    "        yhat_proba = model.predict_proba(X_test)\n",
    "        yhat_proba = yhat_proba[:, 1]\n",
    "        accuracy = accuracy_score(y_test, yhat)\n",
    "        precision = precision_score(y_test, yhat)\n",
    "        recall = recall_score(y_test, yhat)\n",
    "        f1 = f1_score(y_test, yhat)\n",
    "        rocauc = roc_auc_score(y_test, yhat_proba)\n",
    "        model_metrics = pd.DataFrame( { 'Model Name': model_name,\n",
    "                                        'Accuracy': accuracy,\n",
    "                                        'Precision': precision,\n",
    "                                        'Recall': recall,\n",
    "                                        'F1-Score': f1,\n",
    "                                        'ROCAUC': rocauc},  index = [0])\n",
    "        result_df.append(model_metrics)\n",
    "\n",
    "    result = pd.concat(result_df)\n",
    "    \n",
    "    return result\n",
    "\n",
    "\n",
    "def jupyter_settings():\n",
    "    %matplotlib inline\n",
    "    %pylab inline\n",
    "    plt.style.use( 'tableau-colorblind10' )\n",
    "    plt.rcParams['figure.figsize'] = [25, 12]\n",
    "    plt.rcParams['font.size'] = 24\n",
    "    display( HTML( '<style>.container { width:100% !important; }</style>') )\n",
    "    pd.options.display.max_columns = None\n",
    "    pd.options.display.max_rows = None\n",
    "    pd.set_option( 'display.expand_frame_repr', False )\n",
    "    sns.set()\n",
    "\n",
    "jupyter_settings()\n",
    "\n",
    "\n",
    "# round\n",
    "pd.options.display.float_format = '{:.3f}'.format\n",
    "\n",
    "\n",
    "seed = 42\n"
   ]
  },
  {
   "cell_type": "code",
   "execution_count": 3,
   "metadata": {},
   "outputs": [],
   "source": [
    "homepath = '/home/guttofranca/Repos/pa004_health_insurance_cross_sell/health_insurance_cross-sell/'\n"
   ]
  },
  {
   "cell_type": "markdown",
   "metadata": {},
   "source": [
    "## DATA\n"
   ]
  },
  {
   "cell_type": "markdown",
   "metadata": {},
   "source": [
    "This dataset is avaliable [here](https://www.kaggle.com/anmolkumar/health-insurance-cross-sell-prediction).\n",
    "\n",
    "**Data fields**\n",
    "\n",
    "- **id**: Unique ID for the customer\n",
    "- **gender**: Gender of the customer\n",
    "- **age**: Age of the customer\n",
    "- **driving_license**: 0 : Customer does not have DL, 1 : Customer already has DL\n",
    "- **region_code**: Unique code for the region of the customer\n",
    "- **previously_insured**: 1 : Customer already has Vehicle Insurance, 0 : Customer doesn't have Vehicle Insurance\n",
    "- **vehicle_age**: Age of the Vehicle\n",
    "- **vehicle_damage**: 1 : Customer got his/her vehicle damaged in the past, 0 : Customer didn't get his/her vehicle damaged in the past\n",
    "- **annual_premium**: The amount customer needs to pay as premium in the year\n",
    "- **policy_sales_channel**: Anonymized Code for the channel of outreaching to the customer ie. Different Agents, Over Mail, Over Phone, In Person, etc.\n",
    "- **vintage**: Number of Days, Customer has been associated with the company\n",
    "- **response**: 1 : Customer is interested, 0 : Customer is not interested \n"
   ]
  },
  {
   "cell_type": "code",
   "execution_count": 4,
   "metadata": {},
   "outputs": [],
   "source": [
    "# Credentials\n",
    "host = 'comunidade-ds-postgres.c50pcakiuwi3.us-east-1.rds.amazonaws.com'\n",
    "port = 5432\n",
    "database = 'comunidadedsdb'\n",
    "username = 'member'\n",
    "pwd = 'cdspa'"
   ]
  },
  {
   "cell_type": "code",
   "execution_count": 5,
   "metadata": {},
   "outputs": [],
   "source": [
    "conn = pg.connect(user = username, password = pwd, host = host, port = port, database = database)\n",
    "\n",
    "query_schema = '''\n",
    "    SELECT *\n",
    "    FROM pa004.users u  INNER JOIN pa004.vehicle v on (u.id = v.id)\n",
    "                        INNER JOIN pa004.insurance i on (u.id = i.id)\n",
    "'''\n",
    "\n",
    "df_raw = pd.read_sql(query_schema, conn)\n",
    "\n",
    "conn.close()\n",
    "\n",
    "df_raw.to_pickle(homepath + 'data/processed/df_raw.pkl')"
   ]
  },
  {
   "cell_type": "markdown",
   "metadata": {},
   "source": [
    "## 1. DATA DESCRIPTION\n"
   ]
  },
  {
   "cell_type": "markdown",
   "metadata": {},
   "source": [
    "- **Tasks**\n",
    "    - Dataset First Look\n",
    "    - Organizing Columns\n",
    "    - Data Dimensions\n",
    "    - Check Data\n",
    "    - Unique Values\n",
    "    - Descriptive Statistics\n"
   ]
  },
  {
   "cell_type": "markdown",
   "metadata": {},
   "source": [
    "### 1.1 Dataset First Look\n"
   ]
  },
  {
   "cell_type": "code",
   "execution_count": 6,
   "metadata": {},
   "outputs": [],
   "source": [
    "df1 = pd.read_pickle(homepath + 'data/processed/df_raw.pkl')"
   ]
  },
  {
   "cell_type": "code",
   "execution_count": 7,
   "metadata": {},
   "outputs": [
    {
     "data": {
      "text/html": [
       "<div>\n",
       "<style scoped>\n",
       "    .dataframe tbody tr th:only-of-type {\n",
       "        vertical-align: middle;\n",
       "    }\n",
       "\n",
       "    .dataframe tbody tr th {\n",
       "        vertical-align: top;\n",
       "    }\n",
       "\n",
       "    .dataframe thead th {\n",
       "        text-align: right;\n",
       "    }\n",
       "</style>\n",
       "<table border=\"1\" class=\"dataframe\">\n",
       "  <thead>\n",
       "    <tr style=\"text-align: right;\">\n",
       "      <th></th>\n",
       "      <th>id</th>\n",
       "      <th>gender</th>\n",
       "      <th>age</th>\n",
       "      <th>region_code</th>\n",
       "      <th>policy_sales_channel</th>\n",
       "      <th>id</th>\n",
       "      <th>driving_license</th>\n",
       "      <th>vehicle_age</th>\n",
       "      <th>vehicle_damage</th>\n",
       "      <th>id</th>\n",
       "      <th>previously_insured</th>\n",
       "      <th>annual_premium</th>\n",
       "      <th>vintage</th>\n",
       "      <th>response</th>\n",
       "    </tr>\n",
       "  </thead>\n",
       "  <tbody>\n",
       "    <tr>\n",
       "      <th>0</th>\n",
       "      <td>7</td>\n",
       "      <td>Male</td>\n",
       "      <td>23</td>\n",
       "      <td>11.000</td>\n",
       "      <td>152.000</td>\n",
       "      <td>7</td>\n",
       "      <td>1</td>\n",
       "      <td>&lt; 1 Year</td>\n",
       "      <td>Yes</td>\n",
       "      <td>7</td>\n",
       "      <td>0</td>\n",
       "      <td>23367.000</td>\n",
       "      <td>249</td>\n",
       "      <td>0</td>\n",
       "    </tr>\n",
       "    <tr>\n",
       "      <th>1</th>\n",
       "      <td>13</td>\n",
       "      <td>Female</td>\n",
       "      <td>41</td>\n",
       "      <td>15.000</td>\n",
       "      <td>14.000</td>\n",
       "      <td>13</td>\n",
       "      <td>1</td>\n",
       "      <td>1-2 Year</td>\n",
       "      <td>No</td>\n",
       "      <td>13</td>\n",
       "      <td>1</td>\n",
       "      <td>31409.000</td>\n",
       "      <td>221</td>\n",
       "      <td>0</td>\n",
       "    </tr>\n",
       "  </tbody>\n",
       "</table>\n",
       "</div>"
      ],
      "text/plain": [
       "   id  gender  age  region_code  policy_sales_channel  id  driving_license vehicle_age vehicle_damage  id  previously_insured  annual_premium  vintage  response\n",
       "0   7    Male   23       11.000               152.000   7                1    < 1 Year            Yes   7                   0       23367.000      249         0\n",
       "1  13  Female   41       15.000                14.000  13                1    1-2 Year             No  13                   1       31409.000      221         0"
      ]
     },
     "execution_count": 7,
     "metadata": {},
     "output_type": "execute_result"
    }
   ],
   "source": [
    "df1.head(2)"
   ]
  },
  {
   "cell_type": "markdown",
   "metadata": {},
   "source": [
    "### 1.2 Organizing Columns\n"
   ]
  },
  {
   "cell_type": "code",
   "execution_count": 8,
   "metadata": {},
   "outputs": [],
   "source": [
    "# removing duplicated columns\n",
    "df1 = df1.loc[:, ~ df1.columns.duplicated()]"
   ]
  },
  {
   "cell_type": "code",
   "execution_count": 9,
   "metadata": {},
   "outputs": [
    {
     "data": {
      "text/html": [
       "<div>\n",
       "<style scoped>\n",
       "    .dataframe tbody tr th:only-of-type {\n",
       "        vertical-align: middle;\n",
       "    }\n",
       "\n",
       "    .dataframe tbody tr th {\n",
       "        vertical-align: top;\n",
       "    }\n",
       "\n",
       "    .dataframe thead th {\n",
       "        text-align: right;\n",
       "    }\n",
       "</style>\n",
       "<table border=\"1\" class=\"dataframe\">\n",
       "  <thead>\n",
       "    <tr style=\"text-align: right;\">\n",
       "      <th></th>\n",
       "      <th>0</th>\n",
       "      <th>1</th>\n",
       "      <th>2</th>\n",
       "      <th>3</th>\n",
       "      <th>4</th>\n",
       "    </tr>\n",
       "  </thead>\n",
       "  <tbody>\n",
       "    <tr>\n",
       "      <th>id</th>\n",
       "      <td>7</td>\n",
       "      <td>13</td>\n",
       "      <td>18</td>\n",
       "      <td>31</td>\n",
       "      <td>39</td>\n",
       "    </tr>\n",
       "    <tr>\n",
       "      <th>gender</th>\n",
       "      <td>Male</td>\n",
       "      <td>Female</td>\n",
       "      <td>Female</td>\n",
       "      <td>Female</td>\n",
       "      <td>Male</td>\n",
       "    </tr>\n",
       "    <tr>\n",
       "      <th>age</th>\n",
       "      <td>23</td>\n",
       "      <td>41</td>\n",
       "      <td>25</td>\n",
       "      <td>26</td>\n",
       "      <td>45</td>\n",
       "    </tr>\n",
       "    <tr>\n",
       "      <th>region_code</th>\n",
       "      <td>11.000</td>\n",
       "      <td>15.000</td>\n",
       "      <td>35.000</td>\n",
       "      <td>8.000</td>\n",
       "      <td>8.000</td>\n",
       "    </tr>\n",
       "    <tr>\n",
       "      <th>policy_sales_channel</th>\n",
       "      <td>152.000</td>\n",
       "      <td>14.000</td>\n",
       "      <td>152.000</td>\n",
       "      <td>160.000</td>\n",
       "      <td>124.000</td>\n",
       "    </tr>\n",
       "    <tr>\n",
       "      <th>driving_license</th>\n",
       "      <td>1</td>\n",
       "      <td>1</td>\n",
       "      <td>1</td>\n",
       "      <td>1</td>\n",
       "      <td>1</td>\n",
       "    </tr>\n",
       "    <tr>\n",
       "      <th>vehicle_age</th>\n",
       "      <td>&lt; 1 Year</td>\n",
       "      <td>1-2 Year</td>\n",
       "      <td>&lt; 1 Year</td>\n",
       "      <td>&lt; 1 Year</td>\n",
       "      <td>1-2 Year</td>\n",
       "    </tr>\n",
       "    <tr>\n",
       "      <th>vehicle_damage</th>\n",
       "      <td>Yes</td>\n",
       "      <td>No</td>\n",
       "      <td>No</td>\n",
       "      <td>No</td>\n",
       "      <td>Yes</td>\n",
       "    </tr>\n",
       "    <tr>\n",
       "      <th>previously_insured</th>\n",
       "      <td>0</td>\n",
       "      <td>1</td>\n",
       "      <td>1</td>\n",
       "      <td>0</td>\n",
       "      <td>0</td>\n",
       "    </tr>\n",
       "    <tr>\n",
       "      <th>annual_premium</th>\n",
       "      <td>23367.000</td>\n",
       "      <td>31409.000</td>\n",
       "      <td>46622.000</td>\n",
       "      <td>2630.000</td>\n",
       "      <td>42297.000</td>\n",
       "    </tr>\n",
       "    <tr>\n",
       "      <th>vintage</th>\n",
       "      <td>249</td>\n",
       "      <td>221</td>\n",
       "      <td>299</td>\n",
       "      <td>136</td>\n",
       "      <td>264</td>\n",
       "    </tr>\n",
       "    <tr>\n",
       "      <th>response</th>\n",
       "      <td>0</td>\n",
       "      <td>0</td>\n",
       "      <td>0</td>\n",
       "      <td>0</td>\n",
       "      <td>0</td>\n",
       "    </tr>\n",
       "  </tbody>\n",
       "</table>\n",
       "</div>"
      ],
      "text/plain": [
       "                             0         1         2         3         4\n",
       "id                           7        13        18        31        39\n",
       "gender                    Male    Female    Female    Female      Male\n",
       "age                         23        41        25        26        45\n",
       "region_code             11.000    15.000    35.000     8.000     8.000\n",
       "policy_sales_channel   152.000    14.000   152.000   160.000   124.000\n",
       "driving_license              1         1         1         1         1\n",
       "vehicle_age           < 1 Year  1-2 Year  < 1 Year  < 1 Year  1-2 Year\n",
       "vehicle_damage             Yes        No        No        No       Yes\n",
       "previously_insured           0         1         1         0         0\n",
       "annual_premium       23367.000 31409.000 46622.000  2630.000 42297.000\n",
       "vintage                    249       221       299       136       264\n",
       "response                     0         0         0         0         0"
      ]
     },
     "execution_count": 9,
     "metadata": {},
     "output_type": "execute_result"
    }
   ],
   "source": [
    "df1.head().T"
   ]
  },
  {
   "cell_type": "markdown",
   "metadata": {},
   "source": [
    "### 1.3 Data Dimensions\n"
   ]
  },
  {
   "cell_type": "code",
   "execution_count": 10,
   "metadata": {},
   "outputs": [
    {
     "name": "stdout",
     "output_type": "stream",
     "text": [
      "Number of rows: 381109 \n",
      "Number of columns: 12\n"
     ]
    }
   ],
   "source": [
    "print(f'Number of rows: {df1.shape[0]} \\nNumber of columns: {df1.shape[1]}')\n"
   ]
  },
  {
   "cell_type": "markdown",
   "metadata": {},
   "source": [
    "### 1.4 Check Data"
   ]
  },
  {
   "cell_type": "code",
   "execution_count": 11,
   "metadata": {},
   "outputs": [
    {
     "name": "stdout",
     "output_type": "stream",
     "text": [
      "<class 'pandas.core.frame.DataFrame'>\n",
      "RangeIndex: 381109 entries, 0 to 381108\n",
      "Data columns (total 12 columns):\n",
      " #   Column                Non-Null Count   Dtype  \n",
      "---  ------                --------------   -----  \n",
      " 0   id                    381109 non-null  int64  \n",
      " 1   gender                381109 non-null  object \n",
      " 2   age                   381109 non-null  int64  \n",
      " 3   region_code           381109 non-null  float64\n",
      " 4   policy_sales_channel  381109 non-null  float64\n",
      " 5   driving_license       381109 non-null  int64  \n",
      " 6   vehicle_age           381109 non-null  object \n",
      " 7   vehicle_damage        381109 non-null  object \n",
      " 8   previously_insured    381109 non-null  int64  \n",
      " 9   annual_premium        381109 non-null  float64\n",
      " 10  vintage               381109 non-null  int64  \n",
      " 11  response              381109 non-null  int64  \n",
      "dtypes: float64(3), int64(6), object(3)\n",
      "memory usage: 34.9+ MB\n"
     ]
    }
   ],
   "source": [
    "df1.info()"
   ]
  },
  {
   "cell_type": "code",
   "execution_count": 12,
   "metadata": {},
   "outputs": [
    {
     "data": {
      "text/plain": [
       "id                      0\n",
       "gender                  0\n",
       "age                     0\n",
       "region_code             0\n",
       "policy_sales_channel    0\n",
       "driving_license         0\n",
       "vehicle_age             0\n",
       "vehicle_damage          0\n",
       "previously_insured      0\n",
       "annual_premium          0\n",
       "vintage                 0\n",
       "response                0\n",
       "dtype: int64"
      ]
     },
     "execution_count": 12,
     "metadata": {},
     "output_type": "execute_result"
    }
   ],
   "source": [
    "df1.isna().sum()"
   ]
  },
  {
   "cell_type": "markdown",
   "metadata": {},
   "source": [
    "This DataFrame doesn't have NA and the dtypes look right"
   ]
  },
  {
   "cell_type": "code",
   "execution_count": 13,
   "metadata": {},
   "outputs": [
    {
     "data": {
      "text/plain": [
       "0   0.877\n",
       "1   0.123\n",
       "Name: response, dtype: float64"
      ]
     },
     "execution_count": 13,
     "metadata": {},
     "output_type": "execute_result"
    }
   ],
   "source": [
    "df1['response'].value_counts(normalize = True)"
   ]
  },
  {
   "cell_type": "markdown",
   "metadata": {},
   "source": [
    "### 1.5 unique Values"
   ]
  },
  {
   "cell_type": "code",
   "execution_count": 14,
   "metadata": {},
   "outputs": [
    {
     "name": "stdout",
     "output_type": "stream",
     "text": [
      "There are 53 unique regions.\n",
      "There are 3 unique vehicle ages.\n"
     ]
    }
   ],
   "source": [
    "print(f'There are {df1[\"region_code\"].nunique()} unique regions.')\n",
    "print(f'There are {df1[\"vehicle_age\"].nunique()} unique vehicle ages.')"
   ]
  },
  {
   "cell_type": "code",
   "execution_count": 15,
   "metadata": {},
   "outputs": [
    {
     "data": {
      "text/plain": [
       "array(['< 1 Year', '1-2 Year', '> 2 Years'], dtype=object)"
      ]
     },
     "execution_count": 15,
     "metadata": {},
     "output_type": "execute_result"
    }
   ],
   "source": [
    "df1['vehicle_age'].unique()"
   ]
  },
  {
   "cell_type": "markdown",
   "metadata": {},
   "source": [
    "Vehicle Age: < 1 year, 1-2 years, > 2 years"
   ]
  },
  {
   "cell_type": "markdown",
   "metadata": {},
   "source": [
    "### 1.6 Descriptive Statistics"
   ]
  },
  {
   "cell_type": "markdown",
   "metadata": {},
   "source": [
    "#### 1.6.1 Numerical Attributes"
   ]
  },
  {
   "cell_type": "code",
   "execution_count": 16,
   "metadata": {},
   "outputs": [
    {
     "data": {
      "text/html": [
       "<div>\n",
       "<style scoped>\n",
       "    .dataframe tbody tr th:only-of-type {\n",
       "        vertical-align: middle;\n",
       "    }\n",
       "\n",
       "    .dataframe tbody tr th {\n",
       "        vertical-align: top;\n",
       "    }\n",
       "\n",
       "    .dataframe thead th {\n",
       "        text-align: right;\n",
       "    }\n",
       "</style>\n",
       "<table border=\"1\" class=\"dataframe\">\n",
       "  <thead>\n",
       "    <tr style=\"text-align: right;\">\n",
       "      <th></th>\n",
       "      <th>Attributes</th>\n",
       "      <th>Min</th>\n",
       "      <th>Max</th>\n",
       "      <th>Range</th>\n",
       "      <th>Mean</th>\n",
       "      <th>Median</th>\n",
       "      <th>Q1</th>\n",
       "      <th>Q3</th>\n",
       "      <th>St deviation</th>\n",
       "      <th>Skewness</th>\n",
       "      <th>Kurtosis</th>\n",
       "    </tr>\n",
       "  </thead>\n",
       "  <tbody>\n",
       "    <tr>\n",
       "      <th>0</th>\n",
       "      <td>age</td>\n",
       "      <td>20.000</td>\n",
       "      <td>85.000</td>\n",
       "      <td>65.000</td>\n",
       "      <td>38.823</td>\n",
       "      <td>36.000</td>\n",
       "      <td>25.000</td>\n",
       "      <td>49.000</td>\n",
       "      <td>15.512</td>\n",
       "      <td>0.673</td>\n",
       "      <td>-0.566</td>\n",
       "    </tr>\n",
       "    <tr>\n",
       "      <th>1</th>\n",
       "      <td>annual_premium</td>\n",
       "      <td>2630.000</td>\n",
       "      <td>540165.000</td>\n",
       "      <td>537535.000</td>\n",
       "      <td>30564.390</td>\n",
       "      <td>31669.000</td>\n",
       "      <td>24405.000</td>\n",
       "      <td>39400.000</td>\n",
       "      <td>17213.132</td>\n",
       "      <td>1.766</td>\n",
       "      <td>34.005</td>\n",
       "    </tr>\n",
       "    <tr>\n",
       "      <th>2</th>\n",
       "      <td>vintage</td>\n",
       "      <td>10.000</td>\n",
       "      <td>299.000</td>\n",
       "      <td>289.000</td>\n",
       "      <td>154.347</td>\n",
       "      <td>154.000</td>\n",
       "      <td>82.000</td>\n",
       "      <td>227.000</td>\n",
       "      <td>83.671</td>\n",
       "      <td>0.003</td>\n",
       "      <td>-1.201</td>\n",
       "    </tr>\n",
       "  </tbody>\n",
       "</table>\n",
       "</div>"
      ],
      "text/plain": [
       "       Attributes      Min        Max      Range      Mean    Median        Q1        Q3  St deviation  Skewness  Kurtosis\n",
       "0             age   20.000     85.000     65.000    38.823    36.000    25.000    49.000        15.512     0.673    -0.566\n",
       "1  annual_premium 2630.000 540165.000 537535.000 30564.390 31669.000 24405.000 39400.000     17213.132     1.766    34.005\n",
       "2         vintage   10.000    299.000    289.000   154.347   154.000    82.000   227.000        83.671     0.003    -1.201"
      ]
     },
     "execution_count": 16,
     "metadata": {},
     "output_type": "execute_result"
    }
   ],
   "source": [
    "num_attributes = df1[['age', 'annual_premium', 'vintage']]\n",
    "num_result = numerical_metrics(num_attributes)\n",
    "num_result"
   ]
  },
  {
   "cell_type": "code",
   "execution_count": 17,
   "metadata": {},
   "outputs": [
    {
     "data": {
      "image/png": "[encoded data removed]",
      "text/plain": [
       "<Figure size 1800x864 with 5 Axes>"
      ]
     },
     "metadata": {},
     "output_type": "display_data"
    }
   ],
   "source": [
    "multiple_histplots(df1[['age', 'annual_premium', 'vintage', 'policy_sales_channel', 'region_code']], 3, 2);"
   ]
  },
  {
   "cell_type": "code",
   "execution_count": 18,
   "metadata": {},
   "outputs": [
    {
     "data": {
      "image/png": "[encoded data removed]",
      "text/plain": [
       "<Figure size 1800x864 with 3 Axes>"
      ]
     },
     "metadata": {},
     "output_type": "display_data"
    }
   ],
   "source": [
    "i = 1\n",
    "for col in num_attributes:\n",
    "    plt.subplot(3, 3, i)\n",
    "    ax = sns.boxplot(data = num_attributes, x = col)\n",
    "    i += 1"
   ]
  },
  {
   "cell_type": "markdown",
   "metadata": {},
   "source": [
    "The annual_premium will need an future analysis"
   ]
  },
  {
   "cell_type": "markdown",
   "metadata": {},
   "source": [
    "#### 1.6.2 Categorical Attributes"
   ]
  },
  {
   "cell_type": "code",
   "execution_count": 19,
   "metadata": {},
   "outputs": [
    {
     "data": {
      "image/png": "[encoded data removed]",
      "text/plain": [
       "<Figure size 1800x864 with 4 Axes>"
      ]
     },
     "metadata": {},
     "output_type": "display_data"
    }
   ],
   "source": [
    "cat_attributes = df1[['gender', 'driving_license', 'vehicle_age', 'vehicle_damage', 'previously_insured', 'response']]\n",
    "\n",
    "plt.subplot(1, 4, 1)\n",
    "sns.barplot(x = 'gender', y = 'response', data = cat_attributes)\n",
    "plt.title('Interest by Gender');\n",
    "\n",
    "plt.subplot(1, 4, 2)\n",
    "sns.barplot(x = 'driving_license', y = 'response', data = cat_attributes)\n",
    "plt.title('interest customers with DL');\n",
    "\n",
    "plt.subplot(1, 4, 3)\n",
    "sns.barplot(x = 'vehicle_age', y = 'response', data = cat_attributes)\n",
    "plt.title('interest by Vehicle Age');\n",
    "\n",
    "plt.subplot(1, 4, 4)\n",
    "sns.barplot(x = 'vehicle_damage', y = 'response', data = cat_attributes)\n",
    "plt.title('Vehicle Damaged in the past');"
   ]
  },
  {
   "cell_type": "markdown",
   "metadata": {},
   "source": [
    "Gender"
   ]
  },
  {
   "cell_type": "code",
   "execution_count": 20,
   "metadata": {},
   "outputs": [
    {
     "data": {
      "text/html": [
       "<div>\n",
       "<style scoped>\n",
       "    .dataframe tbody tr th:only-of-type {\n",
       "        vertical-align: middle;\n",
       "    }\n",
       "\n",
       "    .dataframe tbody tr th {\n",
       "        vertical-align: top;\n",
       "    }\n",
       "\n",
       "    .dataframe thead th {\n",
       "        text-align: right;\n",
       "    }\n",
       "</style>\n",
       "<table border=\"1\" class=\"dataframe\">\n",
       "  <thead>\n",
       "    <tr style=\"text-align: right;\">\n",
       "      <th></th>\n",
       "      <th>absolute</th>\n",
       "      <th>percent %</th>\n",
       "    </tr>\n",
       "  </thead>\n",
       "  <tbody>\n",
       "    <tr>\n",
       "      <th>Male</th>\n",
       "      <td>206089</td>\n",
       "      <td>54.076</td>\n",
       "    </tr>\n",
       "    <tr>\n",
       "      <th>Female</th>\n",
       "      <td>175020</td>\n",
       "      <td>45.924</td>\n",
       "    </tr>\n",
       "  </tbody>\n",
       "</table>\n",
       "</div>"
      ],
      "text/plain": [
       "        absolute  percent %\n",
       "Male      206089     54.076\n",
       "Female    175020     45.924"
      ]
     },
     "execution_count": 20,
     "metadata": {},
     "output_type": "execute_result"
    }
   ],
   "source": [
    "categorical_metrics(cat_attributes, 'gender')"
   ]
  },
  {
   "cell_type": "markdown",
   "metadata": {},
   "source": [
    "Driving License"
   ]
  },
  {
   "cell_type": "code",
   "execution_count": 21,
   "metadata": {},
   "outputs": [
    {
     "data": {
      "text/html": [
       "<div>\n",
       "<style scoped>\n",
       "    .dataframe tbody tr th:only-of-type {\n",
       "        vertical-align: middle;\n",
       "    }\n",
       "\n",
       "    .dataframe tbody tr th {\n",
       "        vertical-align: top;\n",
       "    }\n",
       "\n",
       "    .dataframe thead th {\n",
       "        text-align: right;\n",
       "    }\n",
       "</style>\n",
       "<table border=\"1\" class=\"dataframe\">\n",
       "  <thead>\n",
       "    <tr style=\"text-align: right;\">\n",
       "      <th></th>\n",
       "      <th>absolute</th>\n",
       "      <th>percent %</th>\n",
       "    </tr>\n",
       "  </thead>\n",
       "  <tbody>\n",
       "    <tr>\n",
       "      <th>1</th>\n",
       "      <td>380297</td>\n",
       "      <td>99.787</td>\n",
       "    </tr>\n",
       "    <tr>\n",
       "      <th>0</th>\n",
       "      <td>812</td>\n",
       "      <td>0.213</td>\n",
       "    </tr>\n",
       "  </tbody>\n",
       "</table>\n",
       "</div>"
      ],
      "text/plain": [
       "   absolute  percent %\n",
       "1    380297     99.787\n",
       "0       812      0.213"
      ]
     },
     "execution_count": 21,
     "metadata": {},
     "output_type": "execute_result"
    }
   ],
   "source": [
    "categorical_metrics(cat_attributes, 'driving_license')"
   ]
  },
  {
   "cell_type": "code",
   "execution_count": 22,
   "metadata": {},
   "outputs": [
    {
     "data": {
      "text/html": [
       "<div>\n",
       "<style scoped>\n",
       "    .dataframe tbody tr th:only-of-type {\n",
       "        vertical-align: middle;\n",
       "    }\n",
       "\n",
       "    .dataframe tbody tr th {\n",
       "        vertical-align: top;\n",
       "    }\n",
       "\n",
       "    .dataframe thead th {\n",
       "        text-align: right;\n",
       "    }\n",
       "</style>\n",
       "<table border=\"1\" class=\"dataframe\">\n",
       "  <thead>\n",
       "    <tr style=\"text-align: right;\">\n",
       "      <th></th>\n",
       "      <th>absolute</th>\n",
       "      <th>percent %</th>\n",
       "    </tr>\n",
       "  </thead>\n",
       "  <tbody>\n",
       "    <tr>\n",
       "      <th>0</th>\n",
       "      <td>771</td>\n",
       "      <td>94.951</td>\n",
       "    </tr>\n",
       "    <tr>\n",
       "      <th>1</th>\n",
       "      <td>41</td>\n",
       "      <td>5.049</td>\n",
       "    </tr>\n",
       "  </tbody>\n",
       "</table>\n",
       "</div>"
      ],
      "text/plain": [
       "   absolute  percent %\n",
       "0       771     94.951\n",
       "1        41      5.049"
      ]
     },
     "execution_count": 22,
     "metadata": {},
     "output_type": "execute_result"
    }
   ],
   "source": [
    "aux = df1[df1['driving_license'] == 0]\n",
    "\n",
    "categorical_metrics(aux, 'response')\n"
   ]
  },
  {
   "cell_type": "markdown",
   "metadata": {},
   "source": [
    "Vehicle Age"
   ]
  },
  {
   "cell_type": "code",
   "execution_count": 23,
   "metadata": {},
   "outputs": [
    {
     "data": {
      "text/html": [
       "<div>\n",
       "<style scoped>\n",
       "    .dataframe tbody tr th:only-of-type {\n",
       "        vertical-align: middle;\n",
       "    }\n",
       "\n",
       "    .dataframe tbody tr th {\n",
       "        vertical-align: top;\n",
       "    }\n",
       "\n",
       "    .dataframe thead th {\n",
       "        text-align: right;\n",
       "    }\n",
       "</style>\n",
       "<table border=\"1\" class=\"dataframe\">\n",
       "  <thead>\n",
       "    <tr style=\"text-align: right;\">\n",
       "      <th></th>\n",
       "      <th>absolute</th>\n",
       "      <th>percent %</th>\n",
       "    </tr>\n",
       "  </thead>\n",
       "  <tbody>\n",
       "    <tr>\n",
       "      <th>1-2 Year</th>\n",
       "      <td>200316</td>\n",
       "      <td>52.561</td>\n",
       "    </tr>\n",
       "    <tr>\n",
       "      <th>&lt; 1 Year</th>\n",
       "      <td>164786</td>\n",
       "      <td>43.239</td>\n",
       "    </tr>\n",
       "    <tr>\n",
       "      <th>&gt; 2 Years</th>\n",
       "      <td>16007</td>\n",
       "      <td>4.200</td>\n",
       "    </tr>\n",
       "  </tbody>\n",
       "</table>\n",
       "</div>"
      ],
      "text/plain": [
       "           absolute  percent %\n",
       "1-2 Year     200316     52.561\n",
       "< 1 Year     164786     43.239\n",
       "> 2 Years     16007      4.200"
      ]
     },
     "execution_count": 23,
     "metadata": {},
     "output_type": "execute_result"
    }
   ],
   "source": [
    "categorical_metrics(cat_attributes, 'vehicle_age')"
   ]
  },
  {
   "cell_type": "markdown",
   "metadata": {},
   "source": [
    "Vehicle Damage"
   ]
  },
  {
   "cell_type": "code",
   "execution_count": 24,
   "metadata": {},
   "outputs": [
    {
     "data": {
      "text/html": [
       "<div>\n",
       "<style scoped>\n",
       "    .dataframe tbody tr th:only-of-type {\n",
       "        vertical-align: middle;\n",
       "    }\n",
       "\n",
       "    .dataframe tbody tr th {\n",
       "        vertical-align: top;\n",
       "    }\n",
       "\n",
       "    .dataframe thead th {\n",
       "        text-align: right;\n",
       "    }\n",
       "</style>\n",
       "<table border=\"1\" class=\"dataframe\">\n",
       "  <thead>\n",
       "    <tr style=\"text-align: right;\">\n",
       "      <th></th>\n",
       "      <th>absolute</th>\n",
       "      <th>percent %</th>\n",
       "    </tr>\n",
       "  </thead>\n",
       "  <tbody>\n",
       "    <tr>\n",
       "      <th>Yes</th>\n",
       "      <td>192413</td>\n",
       "      <td>50.488</td>\n",
       "    </tr>\n",
       "    <tr>\n",
       "      <th>No</th>\n",
       "      <td>188696</td>\n",
       "      <td>49.512</td>\n",
       "    </tr>\n",
       "  </tbody>\n",
       "</table>\n",
       "</div>"
      ],
      "text/plain": [
       "     absolute  percent %\n",
       "Yes    192413     50.488\n",
       "No     188696     49.512"
      ]
     },
     "execution_count": 24,
     "metadata": {},
     "output_type": "execute_result"
    }
   ],
   "source": [
    "categorical_metrics(cat_attributes, 'vehicle_damage')"
   ]
  },
  {
   "cell_type": "markdown",
   "metadata": {},
   "source": [
    "Previously Insured"
   ]
  },
  {
   "cell_type": "code",
   "execution_count": 25,
   "metadata": {},
   "outputs": [
    {
     "data": {
      "text/html": [
       "<div>\n",
       "<style scoped>\n",
       "    .dataframe tbody tr th:only-of-type {\n",
       "        vertical-align: middle;\n",
       "    }\n",
       "\n",
       "    .dataframe tbody tr th {\n",
       "        vertical-align: top;\n",
       "    }\n",
       "\n",
       "    .dataframe thead th {\n",
       "        text-align: right;\n",
       "    }\n",
       "</style>\n",
       "<table border=\"1\" class=\"dataframe\">\n",
       "  <thead>\n",
       "    <tr style=\"text-align: right;\">\n",
       "      <th></th>\n",
       "      <th>absolute</th>\n",
       "      <th>percent %</th>\n",
       "    </tr>\n",
       "  </thead>\n",
       "  <tbody>\n",
       "    <tr>\n",
       "      <th>0</th>\n",
       "      <td>206481</td>\n",
       "      <td>54.179</td>\n",
       "    </tr>\n",
       "    <tr>\n",
       "      <th>1</th>\n",
       "      <td>174628</td>\n",
       "      <td>45.821</td>\n",
       "    </tr>\n",
       "  </tbody>\n",
       "</table>\n",
       "</div>"
      ],
      "text/plain": [
       "   absolute  percent %\n",
       "0    206481     54.179\n",
       "1    174628     45.821"
      ]
     },
     "execution_count": 25,
     "metadata": {},
     "output_type": "execute_result"
    }
   ],
   "source": [
    "categorical_metrics(cat_attributes, 'previously_insured')"
   ]
  },
  {
   "cell_type": "markdown",
   "metadata": {},
   "source": [
    "Target"
   ]
  },
  {
   "cell_type": "code",
   "execution_count": 26,
   "metadata": {},
   "outputs": [
    {
     "data": {
      "text/html": [
       "<div>\n",
       "<style scoped>\n",
       "    .dataframe tbody tr th:only-of-type {\n",
       "        vertical-align: middle;\n",
       "    }\n",
       "\n",
       "    .dataframe tbody tr th {\n",
       "        vertical-align: top;\n",
       "    }\n",
       "\n",
       "    .dataframe thead th {\n",
       "        text-align: right;\n",
       "    }\n",
       "</style>\n",
       "<table border=\"1\" class=\"dataframe\">\n",
       "  <thead>\n",
       "    <tr style=\"text-align: right;\">\n",
       "      <th></th>\n",
       "      <th>absolute</th>\n",
       "      <th>percent %</th>\n",
       "    </tr>\n",
       "  </thead>\n",
       "  <tbody>\n",
       "    <tr>\n",
       "      <th>0</th>\n",
       "      <td>334399</td>\n",
       "      <td>87.744</td>\n",
       "    </tr>\n",
       "    <tr>\n",
       "      <th>1</th>\n",
       "      <td>46710</td>\n",
       "      <td>12.256</td>\n",
       "    </tr>\n",
       "  </tbody>\n",
       "</table>\n",
       "</div>"
      ],
      "text/plain": [
       "   absolute  percent %\n",
       "0    334399     87.744\n",
       "1     46710     12.256"
      ]
     },
     "execution_count": 26,
     "metadata": {},
     "output_type": "execute_result"
    }
   ],
   "source": [
    "categorical_metrics(cat_attributes, 'response')"
   ]
  },
  {
   "cell_type": "markdown",
   "metadata": {},
   "source": [
    "Only 12.256% of the clients shows interest in vehicle insurance"
   ]
  },
  {
   "cell_type": "markdown",
   "metadata": {},
   "source": [
    "### 1.7 Save State"
   ]
  },
  {
   "cell_type": "code",
   "execution_count": 27,
   "metadata": {},
   "outputs": [],
   "source": [
    "df1.to_pickle(homepath + 'data/processed/df1.pkl')\n"
   ]
  },
  {
   "cell_type": "markdown",
   "metadata": {},
   "source": [
    "## 2. FEATURE ENGINEERING"
   ]
  },
  {
   "cell_type": "markdown",
   "metadata": {},
   "source": [
    "- **Tasks**\n",
    "    - Features Creatrion"
   ]
  },
  {
   "cell_type": "markdown",
   "metadata": {},
   "source": [
    "### 2.1 Dataset Checkpoint\n"
   ]
  },
  {
   "cell_type": "code",
   "execution_count": 28,
   "metadata": {},
   "outputs": [],
   "source": [
    "df2 = pd.read_pickle(homepath + 'data/processed/df1.pkl')"
   ]
  },
  {
   "cell_type": "markdown",
   "metadata": {},
   "source": [
    "### 2. Save State"
   ]
  },
  {
   "cell_type": "code",
   "execution_count": 29,
   "metadata": {},
   "outputs": [],
   "source": [
    "df2.to_pickle(homepath + 'data/processed/df2.pkl')"
   ]
  },
  {
   "cell_type": "markdown",
   "metadata": {},
   "source": [
    "## 3. DATA FILTERING"
   ]
  },
  {
   "cell_type": "markdown",
   "metadata": {},
   "source": [
    "- **Tasks**\n",
    "    - Filtering Rows\n"
   ]
  },
  {
   "cell_type": "markdown",
   "metadata": {},
   "source": [
    "### 3.1 Dataset Checkpoint\n"
   ]
  },
  {
   "cell_type": "code",
   "execution_count": 30,
   "metadata": {},
   "outputs": [],
   "source": [
    "df3 = pd.read_pickle(homepath + 'data/processed/df2.pkl')"
   ]
  },
  {
   "cell_type": "markdown",
   "metadata": {},
   "source": [
    "### 3. Save State\n"
   ]
  },
  {
   "cell_type": "code",
   "execution_count": 31,
   "metadata": {},
   "outputs": [],
   "source": [
    "df3.to_pickle(homepath + 'data/processed/df3.pkl')"
   ]
  },
  {
   "cell_type": "markdown",
   "metadata": {},
   "source": [
    "## 4. EXPLORATORY DATA ANALYSIS"
   ]
  },
  {
   "cell_type": "markdown",
   "metadata": {},
   "source": [
    "### 4.1 Dataset Checkpoint\n"
   ]
  },
  {
   "cell_type": "code",
   "execution_count": 32,
   "metadata": {},
   "outputs": [],
   "source": [
    "df4 = pd.read_pickle(homepath + 'data/processed/df3.pkl')"
   ]
  },
  {
   "cell_type": "markdown",
   "metadata": {},
   "source": [
    "### 4. Save State\n"
   ]
  },
  {
   "cell_type": "code",
   "execution_count": 33,
   "metadata": {},
   "outputs": [],
   "source": [
    "df4.to_pickle(homepath + 'data/processed/df4.pkl')"
   ]
  },
  {
   "cell_type": "markdown",
   "metadata": {},
   "source": [
    "## 5. DATA PREPARATION"
   ]
  },
  {
   "cell_type": "markdown",
   "metadata": {},
   "source": [
    "### 5.1 Dataset Checkpoint\n"
   ]
  },
  {
   "cell_type": "code",
   "execution_count": 34,
   "metadata": {},
   "outputs": [],
   "source": [
    "df5 = pd.read_pickle(homepath + 'data/processed/df4.pkl')\n",
    "df5.drop(columns = ['id'], inplace = True)"
   ]
  },
  {
   "cell_type": "code",
   "execution_count": 35,
   "metadata": {},
   "outputs": [],
   "source": [
    "# Train -> 70%\n",
    "# Test -> 20%\n",
    "# Validation -> 10%\n",
    "\n",
    "# target: response\n",
    "y = df5['response']\n",
    "X = df5.drop(columns = ['response'])\n",
    "\n",
    "X_train, X_test, y_train, y_test = train_test_split(X, y, test_size = 0.2, random_state = seed)\n",
    "\n",
    "# if train = 80% x dataset, then val = 0.1/0.8 = 0.125\n",
    "# 0.125 x 0.8 = 0.1\n",
    "X_train, X_val, y_train, y_val = train_test_split(X_train, y_train, test_size = 0.125, random_state = seed)"
   ]
  },
  {
   "cell_type": "markdown",
   "metadata": {},
   "source": [
    "### 5.2 Encoding"
   ]
  },
  {
   "cell_type": "code",
   "execution_count": 36,
   "metadata": {},
   "outputs": [],
   "source": [
    "# One Hot Encoding in 'vehicle_age', 'gender' and 'vehicle_damage'\n",
    "# Frequency Encoding in 'policy_sales_channel', 'region_code'\n",
    "gender_encoding = {'Male': 0, 'Female': 1}\n",
    "question_encoding = {'No': 0, 'Yes': 1}\n",
    "fe_cols = ['policy_sales_channel', 'region_code'] \n",
    "\n",
    "X_train, X_test, X_val = [pd.get_dummies(dataframe, prefix = ['car_age'],columns = ['vehicle_age']) for dataframe in [X_train, X_test, X_val]]\n",
    "X_train, X_test, X_val = [  dataframe.rename(columns = {'car_age_1-2 Year': 'car_age_1-2_year',  'car_age_> 2 Years': 'car_age_>2_years',\n",
    "                            'car_age_< 1 Year': 'car_age_<1_year'}) for dataframe in [X_train, X_test, X_val]]\n",
    "\n",
    "for dataframe in [X_train, X_test, X_val]:\n",
    "    dataframe['gender'] = dataframe['gender'].map(gender_encoding)\n",
    "    dataframe['vehicle_damage'] = dataframe['vehicle_damage'].map(question_encoding)\n",
    "    \n",
    "    \n",
    "for col_name in fe_cols:\n",
    "    fe_train, fe_test, fe_val = [(dataframe.groupby(col_name).size())/len(dataframe) for dataframe in [X_train, X_test, X_val]]\n",
    "    X_train.loc[:, col_name] = X_train[col_name].map(fe_train)\n",
    "    X_test.loc[:, col_name] = X_test[col_name].map(fe_test)\n",
    "    X_val.loc[:, col_name] = X_val[col_name].map(fe_val)"
   ]
  },
  {
   "cell_type": "markdown",
   "metadata": {},
   "source": [
    "### 5.3 Rescaling"
   ]
  },
  {
   "cell_type": "markdown",
   "metadata": {},
   "source": [
    "1. Without Outlier and With Normal Distribution: Standard Scaler (Mean and std deviation)\n",
    "2. With Outliers and Normal Distribution: Robust Scaler (Quartile)\n",
    "3. Without Normal Distribution: MinMax Scaler"
   ]
  },
  {
   "cell_type": "code",
   "execution_count": 37,
   "metadata": {},
   "outputs": [
    {
     "data": {
      "image/png": "[encoded data removed]",
      "text/plain": [
       "<Figure size 1800x864 with 3 Axes>"
      ]
     },
     "metadata": {},
     "output_type": "display_data"
    }
   ],
   "source": [
    "multiple_histplots(X_train[['age', 'annual_premium','vintage']], 3, 2);"
   ]
  },
  {
   "cell_type": "code",
   "execution_count": 38,
   "metadata": {},
   "outputs": [],
   "source": [
    "# Min-Max Scaler\n",
    "mms = MinMaxScaler()\n",
    "rs = RobustScaler()\n",
    "\n",
    "min_max_scaler = ['age', 'vintage']\n",
    "robust_scaler = ['annual_premium']\n",
    "\n",
    "for col in min_max_scaler:\n",
    "    X_train[[col]] = mms.fit_transform(X_train[[col]].values)\n",
    "    X_test[col] = mms.fit_transform(X_test[[col]].values)\n",
    "    X_val[col] = mms.fit_transform(X_val[[col]].values)\n",
    "\n",
    "for col in robust_scaler:\n",
    "    X_train[[col]] = rs.fit_transform(X_train[[col]].values)\n",
    "    X_test[col] = rs.fit_transform(X_test[[col]].values)\n",
    "    X_val[col] = rs.fit_transform(X_val[[col]].values)"
   ]
  },
  {
   "cell_type": "markdown",
   "metadata": {},
   "source": [
    "### 5.4 Feature Importance"
   ]
  },
  {
   "cell_type": "code",
   "execution_count": 41,
   "metadata": {},
   "outputs": [
    {
     "data": {
      "image/png": "[encoded data removed]",
      "text/plain": [
       "<Figure size 1800x864 with 1 Axes>"
      ]
     },
     "metadata": {},
     "output_type": "display_data"
    }
   ],
   "source": [
    "# train random forest\n",
    "rf = RandomForestClassifier(n_estimators = 100, criterion = 'entropy', random_state = seed)\n",
    "rf.fit(X_train, y_train)\n",
    "\n",
    "# feature importance data frame\n",
    "feature_selection = pd.DataFrame({'feature': X_train.columns,'feature_importance': rf.feature_importances_})\\\n",
    "                                .sort_values('feature_importance', ascending = False).reset_index(drop = True)\n",
    "\n",
    "# plot feature importance\n",
    "ax = sns.barplot(x = 'feature_importance', y = 'feature', data = feature_selection, orient = 'h', palette = 'tab10')\n",
    "ax.set_title('Feature Importance');"
   ]
  },
  {
   "cell_type": "markdown",
   "metadata": {},
   "source": [
    "### 5. Save State\n"
   ]
  },
  {
   "cell_type": "markdown",
   "metadata": {},
   "source": [
    "## 6. MACHINE LEARNING MODELLING"
   ]
  },
  {
   "cell_type": "code",
   "execution_count": 44,
   "metadata": {},
   "outputs": [],
   "source": [
    "from xgboost                                import XGBClassifier\n",
    "from sklearn.linear_model                   import LogisticRegression\n",
    "from sklearn.metrics                        import accuracy_score, f1_score, precision_score, recall_score, roc_auc_score "
   ]
  },
  {
   "cell_type": "code",
   "execution_count": 45,
   "metadata": {},
   "outputs": [],
   "source": [
    "# model definition\n",
    "lr = LogisticRegression(random_state = seed, solver = 'lbfgs', max_iter = 1000)\n",
    "\n",
    "# model training\n",
    "lr.fit(X_train, y_train)\n",
    "\n",
    "# model predictionb\n",
    "yhat_lr = lr.predict_proba(X_val)"
   ]
  },
  {
   "cell_type": "code",
   "execution_count": 46,
   "metadata": {},
   "outputs": [],
   "source": [
    "# model definition\n",
    "rf = RandomForestClassifier(random_state = seed)\n",
    "\n",
    "# model training\n",
    "rf.fit(X_train, y_train)\n",
    "\n",
    "# model prediction\n",
    "yhat_rf = rf.predict_proba(X_val)"
   ]
  },
  {
   "cell_type": "code",
   "execution_count": 53,
   "metadata": {},
   "outputs": [],
   "source": [
    "def model_metrics(models, X_test, y_test):\n",
    "    \"\"\"Calculate Precision, Recall and F1\n",
    "\n",
    "    Args:\n",
    "        models[list]: [List of Machine Learning Algorithms]\n",
    "        X_test: [Features Test Dataframe]\n",
    "        y_test: [Target Feature Test DataFrame]\n",
    "\n",
    "    Returns:\n",
    "        [DataFrame]: [DataFrame with metrics]\n",
    "    \"\"\"\n",
    "\n",
    "    result_df = []\n",
    "    for model in models:\n",
    "        # model prediction\n",
    "        model_name = type(model).__name__\n",
    "        yhat = model.predict(X_test)\n",
    "        yhat_proba = model.predict_proba(X_test)\n",
    "        yhat_proba = yhat_proba[:, 1]\n",
    "        accuracy = accuracy_score(y_test, yhat)\n",
    "        precision = precision_score(y_test, yhat)\n",
    "        recall = recall_score(y_test, yhat)\n",
    "        f1 = f1_score(y_test, yhat)\n",
    "        rocauc = roc_auc_score(y_test, yhat_proba)\n",
    "        model_metrics = pd.DataFrame( { 'Model Name': model_name,\n",
    "                                        'Accuracy': accuracy,\n",
    "                                        'Precision': precision,\n",
    "                                        'Recall': recall,\n",
    "                                        'F1-Score': f1,\n",
    "                                        'ROCAUC': rocauc},  index = [0])\n",
    "        result_df.append(model_metrics)\n",
    "\n",
    "    result = pd.concat(result_df)\n",
    "    \n",
    "    return result"
   ]
  },
  {
   "cell_type": "code",
   "execution_count": 54,
   "metadata": {},
   "outputs": [
    {
     "data": {
      "text/html": [
       "<div>\n",
       "<style scoped>\n",
       "    .dataframe tbody tr th:only-of-type {\n",
       "        vertical-align: middle;\n",
       "    }\n",
       "\n",
       "    .dataframe tbody tr th {\n",
       "        vertical-align: top;\n",
       "    }\n",
       "\n",
       "    .dataframe thead th {\n",
       "        text-align: right;\n",
       "    }\n",
       "</style>\n",
       "<table border=\"1\" class=\"dataframe\">\n",
       "  <thead>\n",
       "    <tr style=\"text-align: right;\">\n",
       "      <th></th>\n",
       "      <th>Model Name</th>\n",
       "      <th>Accuracy</th>\n",
       "      <th>Precision</th>\n",
       "      <th>Recall</th>\n",
       "      <th>F1-Score</th>\n",
       "      <th>ROCAUC</th>\n",
       "    </tr>\n",
       "  </thead>\n",
       "  <tbody>\n",
       "    <tr>\n",
       "      <th>0</th>\n",
       "      <td>LogisticRegression</td>\n",
       "      <td>0.879</td>\n",
       "      <td>0.500</td>\n",
       "      <td>0.000</td>\n",
       "      <td>0.000</td>\n",
       "      <td>0.833</td>\n",
       "    </tr>\n",
       "    <tr>\n",
       "      <th>0</th>\n",
       "      <td>RandomForestClassifier</td>\n",
       "      <td>0.867</td>\n",
       "      <td>0.340</td>\n",
       "      <td>0.108</td>\n",
       "      <td>0.164</td>\n",
       "      <td>0.833</td>\n",
       "    </tr>\n",
       "  </tbody>\n",
       "</table>\n",
       "</div>"
      ],
      "text/plain": [
       "               Model Name  Accuracy  Precision  Recall  F1-Score  ROCAUC\n",
       "0      LogisticRegression     0.879      0.500   0.000     0.000   0.833\n",
       "0  RandomForestClassifier     0.867      0.340   0.108     0.164   0.833"
      ]
     },
     "execution_count": 54,
     "metadata": {},
     "output_type": "execute_result"
    }
   ],
   "source": [
    "models = [lr, rf]\n",
    "model_metrics(models, X_val, y_val)"
   ]
  },
  {
   "cell_type": "code",
   "execution_count": null,
   "metadata": {},
   "outputs": [],
   "source": []
  },
  {
   "cell_type": "code",
   "execution_count": null,
   "metadata": {},
   "outputs": [],
   "source": []
  },
  {
   "cell_type": "code",
   "execution_count": null,
   "metadata": {},
   "outputs": [],
   "source": []
  },
  {
   "cell_type": "markdown",
   "metadata": {},
   "source": [
    "## 7. HYPERPARAMETER FINE TUNNING"
   ]
  },
  {
   "cell_type": "markdown",
   "metadata": {},
   "source": []
  },
  {
   "cell_type": "markdown",
   "metadata": {},
   "source": [
    "## 8. TUNNED MODEL PERFORMANCE"
   ]
  },
  {
   "cell_type": "markdown",
   "metadata": {},
   "source": []
  },
  {
   "cell_type": "markdown",
   "metadata": {},
   "source": [
    "## 9. BUSINESS TRANSLATION"
   ]
  },
  {
   "cell_type": "markdown",
   "metadata": {},
   "source": []
  }
 ],
 "metadata": {
  "interpreter": {
   "hash": "63a3715ea34a98c67e48a12d08ac2d77da27c0feed4cf40f892eaa7da64870a6"
  },
  "kernelspec": {
   "display_name": "Python 3.9.7 64-bit ('teste': pyenv)",
   "language": "python",
   "name": "python3"
  },
  "language_info": {
   "codemirror_mode": {
    "name": "ipython",
    "version": 3
   },
   "file_extension": ".py",
   "mimetype": "text/x-python",
   "name": "python",
   "nbconvert_exporter": "python",
   "pygments_lexer": "ipython3",
   "version": "3.9.7"
  },
  "orig_nbformat": 4
 },
 "nbformat": 4,
 "nbformat_minor": 2
}
