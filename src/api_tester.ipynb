{
 "cells": [
  {
   "cell_type": "markdown",
   "metadata": {},
   "source": [
    "# API TESTER - HEALTH INSURANCE CROSS-SELL"
   ]
  },
  {
   "cell_type": "code",
   "execution_count": 5,
   "metadata": {},
   "outputs": [],
   "source": [
    "import pandas as pd\n",
    "import requests\n",
    "import json"
   ]
  },
  {
   "cell_type": "code",
   "execution_count": 13,
   "metadata": {},
   "outputs": [],
   "source": [
    "homepath = '/home/gutto/Repos/Insurance-Cross-Sell/'\n",
    "\n",
    "df_test = pd.read_pickle(homepath + 'data/processed/x_val.pkl')\n",
    "df_test = df_test.sample(50)"
   ]
  },
  {
   "cell_type": "code",
   "execution_count": 6,
   "metadata": {},
   "outputs": [],
   "source": [
    "# convert dataframe to json\n",
    "data = json.dumps(df_test.to_dict( orient='records'))"
   ]
  },
  {
   "cell_type": "code",
   "execution_count": 7,
   "metadata": {},
   "outputs": [
    {
     "data": {
      "text/plain": [
       "'[{\"id\": 249800, \"gender\": \"Female\", \"age\": 23, \"region_code\": 49.0, \"policy_sales_channel\": 152.0, \"driving_license\": 1, \"vehicle_age\": \"below_1_year\", \"vehicle_damage\": \"No\", \"previously_insured\": 0, \"annual_premium\": 2630.0, \"vintage\": 245, \"response\": 0, \"premium_per_vintage\": 10.73469387755102, \"insurance_age\": 5, \"premium_per_age\": 30536.526998744244}, {\"id\": 39156, \"gender\": \"Male\", \"age\": 38, \"region_code\": 28.0, \"policy_sales_channel\": 154.0, \"driving_license\": 1, \"vehicle_age\": \"between_1_2_year\", \"vehicle_damage\": \"Yes\", \"previously_insured\": 0, \"annual_premium\": 58292.0, \"vintage\": 81, \"response\": 0, \"premium_per_vintage\": 719.6543209876543, \"insurance_age\": 2, \"premium_per_age\": 28745.821052631578}, {\"id\": 14648, \"gender\": \"Male\", \"age\": 24, \"region_code\": 8.0, \"policy_sales_channel\": 152.0, \"driving_license\": 1, \"vehicle_age\": \"below_1_year\", \"vehicle_damage\": \"No\", \"previously_insured\": 1, \"annual_premium\": 27520.0, \"vintage\": 85, \"response\": 0, \"premium_per_vintage\": 323.7647058823529, \"insurance_age\": 5, \"premium_per_age\": 31169.456085072863}, {\"id\": 380372, \"gender\": \"Female\", \"age\": 45, \"region_code\": 28.0, \"policy_sales_channel\": 55.0, \"driving_license\": 1, \"vehicle_age\": \"between_1_2_year\", \"vehicle_damage\": \"Yes\", \"previously_insured\": 0, \"annual_premium\": 57328.0, \"vintage\": 46, \"response\": 1, \"premium_per_vintage\": 1246.2608695652175, \"insurance_age\": 2, \"premium_per_age\": 31816.855464159813}, {\"id\": 155721, \"gender\": \"Male\", \"age\": 24, \"region_code\": 7.0, \"policy_sales_channel\": 152.0, \"driving_license\": 1, \"vehicle_age\": \"below_1_year\", \"vehicle_damage\": \"No\", \"previously_insured\": 1, \"annual_premium\": 51090.0, \"vintage\": 49, \"response\": 0, \"premium_per_vintage\": 1042.6530612244899, \"insurance_age\": 5, \"premium_per_age\": 31169.456085072863}, {\"id\": 38225, \"gender\": \"Male\", \"age\": 40, \"region_code\": 28.0, \"policy_sales_channel\": 26.0, \"driving_license\": 1, \"vehicle_age\": \"between_1_2_year\", \"vehicle_damage\": \"No\", \"previously_insured\": 1, \"annual_premium\": 38452.0, \"vintage\": 116, \"response\": 0, \"premium_per_vintage\": 331.48275862068965, \"insurance_age\": 2, \"premium_per_age\": 29653.334821428572}, {\"id\": 338260, \"gender\": \"Male\", \"age\": 35, \"region_code\": 8.0, \"policy_sales_channel\": 19.0, \"driving_license\": 1, \"vehicle_age\": \"between_1_2_year\", \"vehicle_damage\": \"No\", \"previously_insured\": 1, \"annual_premium\": 22395.0, \"vintage\": 185, \"response\": 0, \"premium_per_vintage\": 121.05405405405405, \"insurance_age\": 3, \"premium_per_age\": 26878.991304347826}, {\"id\": 106115, \"gender\": \"Female\", \"age\": 55, \"region_code\": 33.0, \"policy_sales_channel\": 124.0, \"driving_license\": 1, \"vehicle_age\": \"between_1_2_year\", \"vehicle_damage\": \"No\", \"previously_insured\": 1, \"annual_premium\": 32170.0, \"vintage\": 141, \"response\": 0, \"premium_per_vintage\": 228.15602836879432, \"insurance_age\": 1, \"premium_per_age\": 31788.1311827957}, {\"id\": 161121, \"gender\": \"Male\", \"age\": 62, \"region_code\": 8.0, \"policy_sales_channel\": 26.0, \"driving_license\": 1, \"vehicle_age\": \"between_1_2_year\", \"vehicle_damage\": \"Yes\", \"previously_insured\": 0, \"annual_premium\": 55064.0, \"vintage\": 248, \"response\": 0, \"premium_per_vintage\": 222.03225806451613, \"insurance_age\": 1, \"premium_per_age\": 31870.501529051988}, {\"id\": 117261, \"gender\": \"Female\", \"age\": 46, \"region_code\": 11.0, \"policy_sales_channel\": 124.0, \"driving_license\": 1, \"vehicle_age\": \"between_1_2_year\", \"vehicle_damage\": \"No\", \"previously_insured\": 1, \"annual_premium\": 35387.0, \"vintage\": 19, \"response\": 0, \"premium_per_vintage\": 1862.4736842105262, \"insurance_age\": 2, \"premium_per_age\": 31768.631105398457}, {\"id\": 239869, \"gender\": \"Male\", \"age\": 23, \"region_code\": 10.0, \"policy_sales_channel\": 152.0, \"driving_license\": 1, \"vehicle_age\": \"below_1_year\", \"vehicle_damage\": \"No\", \"previously_insured\": 1, \"annual_premium\": 28570.0, \"vintage\": 158, \"response\": 0, \"premium_per_vintage\": 180.8227848101266, \"insurance_age\": 5, \"premium_per_age\": 30536.526998744244}, {\"id\": 277755, \"gender\": \"Female\", \"age\": 29, \"region_code\": 36.0, \"policy_sales_channel\": 124.0, \"driving_license\": 1, \"vehicle_age\": \"between_1_2_year\", \"vehicle_damage\": \"No\", \"previously_insured\": 1, \"annual_premium\": 34706.0, \"vintage\": 246, \"response\": 0, \"premium_per_vintage\": 141.08130081300814, \"insurance_age\": 3, \"premium_per_age\": 29112.66178623719}, {\"id\": 43765, \"gender\": \"Female\", \"age\": 28, \"region_code\": 50.0, \"policy_sales_channel\": 152.0, \"driving_license\": 1, \"vehicle_age\": \"below_1_year\", \"vehicle_damage\": \"No\", \"previously_insured\": 1, \"annual_premium\": 44759.0, \"vintage\": 164, \"response\": 0, \"premium_per_vintage\": 272.9207317073171, \"insurance_age\": 3, \"premium_per_age\": 28568.203744493392}, {\"id\": 233832, \"gender\": \"Female\", \"age\": 27, \"region_code\": 46.0, \"policy_sales_channel\": 152.0, \"driving_license\": 1, \"vehicle_age\": \"below_1_year\", \"vehicle_damage\": \"No\", \"previously_insured\": 0, \"annual_premium\": 27139.0, \"vintage\": 90, \"response\": 0, \"premium_per_vintage\": 301.5444444444444, \"insurance_age\": 3, \"premium_per_age\": 29037.48623853211}, {\"id\": 703, \"gender\": \"Female\", \"age\": 43, \"region_code\": 28.0, \"policy_sales_channel\": 26.0, \"driving_license\": 1, \"vehicle_age\": \"between_1_2_year\", \"vehicle_damage\": \"Yes\", \"previously_insured\": 0, \"annual_premium\": 46174.0, \"vintage\": 21, \"response\": 1, \"premium_per_vintage\": 2198.7619047619046, \"insurance_age\": 2, \"premium_per_age\": 31165.477085781433}, {\"id\": 133928, \"gender\": \"Male\", \"age\": 62, \"region_code\": 28.0, \"policy_sales_channel\": 156.0, \"driving_license\": 1, \"vehicle_age\": \"over_2_years\", \"vehicle_damage\": \"Yes\", \"previously_insured\": 0, \"annual_premium\": 2630.0, \"vintage\": 97, \"response\": 0, \"premium_per_vintage\": 27.11340206185567, \"insurance_age\": 1, \"premium_per_age\": 31870.501529051988}, {\"id\": 175615, \"gender\": \"Female\", \"age\": 23, \"region_code\": 46.0, \"policy_sales_channel\": 152.0, \"driving_license\": 1, \"vehicle_age\": \"below_1_year\", \"vehicle_damage\": \"No\", \"previously_insured\": 1, \"annual_premium\": 46577.0, \"vintage\": 211, \"response\": 0, \"premium_per_vintage\": 220.7440758293839, \"insurance_age\": 5, \"premium_per_age\": 30536.526998744244}, {\"id\": 313814, \"gender\": \"Female\", \"age\": 23, \"region_code\": 8.0, \"policy_sales_channel\": 152.0, \"driving_license\": 1, \"vehicle_age\": \"below_1_year\", \"vehicle_damage\": \"No\", \"previously_insured\": 1, \"annual_premium\": 31635.0, \"vintage\": 21, \"response\": 0, \"premium_per_vintage\": 1506.4285714285713, \"insurance_age\": 5, \"premium_per_age\": 30536.526998744244}, {\"id\": 355396, \"gender\": \"Male\", \"age\": 26, \"region_code\": 8.0, \"policy_sales_channel\": 152.0, \"driving_license\": 1, \"vehicle_age\": \"below_1_year\", \"vehicle_damage\": \"Yes\", \"previously_insured\": 0, \"annual_premium\": 76338.0, \"vintage\": 37, \"response\": 0, \"premium_per_vintage\": 2063.189189189189, \"insurance_age\": 3, \"premium_per_age\": 29845.26958362738}, {\"id\": 220995, \"gender\": \"Female\", \"age\": 78, \"region_code\": 9.0, \"policy_sales_channel\": 26.0, \"driving_license\": 1, \"vehicle_age\": \"between_1_2_year\", \"vehicle_damage\": \"Yes\", \"previously_insured\": 0, \"annual_premium\": 33163.0, \"vintage\": 257, \"response\": 1, \"premium_per_vintage\": 129.03891050583658, \"insurance_age\": 4, \"premium_per_age\": 35036.13157894737}, {\"id\": 49362, \"gender\": \"Female\", \"age\": 47, \"region_code\": 21.0, \"policy_sales_channel\": 124.0, \"driving_license\": 1, \"vehicle_age\": \"between_1_2_year\", \"vehicle_damage\": \"Yes\", \"previously_insured\": 0, \"annual_premium\": 29040.0, \"vintage\": 55, \"response\": 1, \"premium_per_vintage\": 528.0, \"insurance_age\": 2, \"premium_per_age\": 31455.668044077134}, {\"id\": 347388, \"gender\": \"Female\", \"age\": 73, \"region_code\": 37.0, \"policy_sales_channel\": 152.0, \"driving_license\": 1, \"vehicle_age\": \"between_1_2_year\", \"vehicle_damage\": \"No\", \"previously_insured\": 1, \"annual_premium\": 2630.0, \"vintage\": 38, \"response\": 0, \"premium_per_vintage\": 69.21052631578948, \"insurance_age\": 4, \"premium_per_age\": 34716.811594202896}, {\"id\": 294130, \"gender\": \"Male\", \"age\": 48, \"region_code\": 28.0, \"policy_sales_channel\": 122.0, \"driving_license\": 1, \"vehicle_age\": \"between_1_2_year\", \"vehicle_damage\": \"Yes\", \"previously_insured\": 0, \"annual_premium\": 50601.0, \"vintage\": 50, \"response\": 1, \"premium_per_vintage\": 1012.02, \"insurance_age\": 2, \"premium_per_age\": 31499.17670157068}, {\"id\": 2535, \"gender\": \"Female\", \"age\": 24, \"region_code\": 21.0, \"policy_sales_channel\": 152.0, \"driving_license\": 1, \"vehicle_age\": \"below_1_year\", \"vehicle_damage\": \"Yes\", \"previously_insured\": 0, \"annual_premium\": 28576.0, \"vintage\": 198, \"response\": 0, \"premium_per_vintage\": 144.32323232323233, \"insurance_age\": 5, \"premium_per_age\": 31169.456085072863}, {\"id\": 303994, \"gender\": \"Male\", \"age\": 50, \"region_code\": 19.0, \"policy_sales_channel\": 26.0, \"driving_license\": 1, \"vehicle_age\": \"between_1_2_year\", \"vehicle_damage\": \"Yes\", \"previously_insured\": 0, \"annual_premium\": 37139.0, \"vintage\": 45, \"response\": 0, \"premium_per_vintage\": 825.3111111111111, \"insurance_age\": 1, \"premium_per_age\": 33274.475590551185}, {\"id\": 95282, \"gender\": \"Male\", \"age\": 59, \"region_code\": 28.0, \"policy_sales_channel\": 124.0, \"driving_license\": 1, \"vehicle_age\": \"between_1_2_year\", \"vehicle_damage\": \"Yes\", \"previously_insured\": 0, \"annual_premium\": 39705.0, \"vintage\": 24, \"response\": 1, \"premium_per_vintage\": 1654.375, \"insurance_age\": 1, \"premium_per_age\": 32117.406779661018}, {\"id\": 170158, \"gender\": \"Male\", \"age\": 26, \"region_code\": 15.0, \"policy_sales_channel\": 152.0, \"driving_license\": 1, \"vehicle_age\": \"below_1_year\", \"vehicle_damage\": \"No\", \"previously_insured\": 1, \"annual_premium\": 38100.0, \"vintage\": 45, \"response\": 0, \"premium_per_vintage\": 846.6666666666666, \"insurance_age\": 3, \"premium_per_age\": 29845.26958362738}, {\"id\": 156898, \"gender\": \"Female\", \"age\": 24, \"region_code\": 45.0, \"policy_sales_channel\": 152.0, \"driving_license\": 1, \"vehicle_age\": \"below_1_year\", \"vehicle_damage\": \"No\", \"previously_insured\": 1, \"annual_premium\": 20740.0, \"vintage\": 60, \"response\": 0, \"premium_per_vintage\": 345.6666666666667, \"insurance_age\": 5, \"premium_per_age\": 31169.456085072863}, {\"id\": 141116, \"gender\": \"Male\", \"age\": 32, \"region_code\": 8.0, \"policy_sales_channel\": 152.0, \"driving_license\": 1, \"vehicle_age\": \"below_1_year\", \"vehicle_damage\": \"No\", \"previously_insured\": 1, \"annual_premium\": 40661.0, \"vintage\": 134, \"response\": 0, \"premium_per_vintage\": 303.44029850746267, \"insurance_age\": 3, \"premium_per_age\": 27314.737354085602}, {\"id\": 359603, \"gender\": \"Male\", \"age\": 26, \"region_code\": 8.0, \"policy_sales_channel\": 152.0, \"driving_license\": 1, \"vehicle_age\": \"below_1_year\", \"vehicle_damage\": \"No\", \"previously_insured\": 1, \"annual_premium\": 34588.0, \"vintage\": 295, \"response\": 0, \"premium_per_vintage\": 117.24745762711865, \"insurance_age\": 3, \"premium_per_age\": 29845.26958362738}, {\"id\": 138416, \"gender\": \"Male\", \"age\": 26, \"region_code\": 3.0, \"policy_sales_channel\": 160.0, \"driving_license\": 1, \"vehicle_age\": \"below_1_year\", \"vehicle_damage\": \"No\", \"previously_insured\": 1, \"annual_premium\": 22858.0, \"vintage\": 243, \"response\": 0, \"premium_per_vintage\": 94.06584362139918, \"insurance_age\": 3, \"premium_per_age\": 29845.26958362738}, {\"id\": 191615, \"gender\": \"Female\", \"age\": 24, \"region_code\": 8.0, \"policy_sales_channel\": 152.0, \"driving_license\": 1, \"vehicle_age\": \"below_1_year\", \"vehicle_damage\": \"No\", \"previously_insured\": 1, \"annual_premium\": 61487.0, \"vintage\": 181, \"response\": 0, \"premium_per_vintage\": 339.707182320442, \"insurance_age\": 5, \"premium_per_age\": 31169.456085072863}, {\"id\": 12177, \"gender\": \"Female\", \"age\": 80, \"region_code\": 28.0, \"policy_sales_channel\": 139.0, \"driving_license\": 1, \"vehicle_age\": \"between_1_2_year\", \"vehicle_damage\": \"Yes\", \"previously_insured\": 0, \"annual_premium\": 45343.0, \"vintage\": 270, \"response\": 0, \"premium_per_vintage\": 167.93703703703704, \"insurance_age\": 4, \"premium_per_age\": 34659.39024390244}, {\"id\": 47724, \"gender\": \"Male\", \"age\": 66, \"region_code\": 46.0, \"policy_sales_channel\": 11.0, \"driving_license\": 1, \"vehicle_age\": \"between_1_2_year\", \"vehicle_damage\": \"No\", \"previously_insured\": 1, \"annual_premium\": 28137.0, \"vintage\": 183, \"response\": 0, \"premium_per_vintage\": 153.75409836065575, \"insurance_age\": 4, \"premium_per_age\": 34204.83400809717}, {\"id\": 265169, \"gender\": \"Male\", \"age\": 43, \"region_code\": 41.0, \"policy_sales_channel\": 26.0, \"driving_license\": 1, \"vehicle_age\": \"between_1_2_year\", \"vehicle_damage\": \"Yes\", \"previously_insured\": 0, \"annual_premium\": 29325.0, \"vintage\": 43, \"response\": 0, \"premium_per_vintage\": 681.9767441860465, \"insurance_age\": 2, \"premium_per_age\": 31165.477085781433}, {\"id\": 278136, \"gender\": \"Male\", \"age\": 69, \"region_code\": 8.0, \"policy_sales_channel\": 25.0, \"driving_license\": 1, \"vehicle_age\": \"between_1_2_year\", \"vehicle_damage\": \"Yes\", \"previously_insured\": 1, \"annual_premium\": 32945.0, \"vintage\": 178, \"response\": 0, \"premium_per_vintage\": 185.08426966292134, \"insurance_age\": 4, \"premium_per_age\": 33115.00396825397}, {\"id\": 6465, \"gender\": \"Female\", \"age\": 22, \"region_code\": 39.0, \"policy_sales_channel\": 152.0, \"driving_license\": 1, \"vehicle_age\": \"below_1_year\", \"vehicle_damage\": \"No\", \"previously_insured\": 1, \"annual_premium\": 30548.0, \"vintage\": 37, \"response\": 0, \"premium_per_vintage\": 825.6216216216217, \"insurance_age\": 5, \"premium_per_age\": 30812.842054263565}, {\"id\": 130651, \"gender\": \"Male\", \"age\": 25, \"region_code\": 10.0, \"policy_sales_channel\": 152.0, \"driving_license\": 1, \"vehicle_age\": \"below_1_year\", \"vehicle_damage\": \"No\", \"previously_insured\": 1, \"annual_premium\": 24774.0, \"vintage\": 120, \"response\": 0, \"premium_per_vintage\": 206.45, \"insurance_age\": 5, \"premium_per_age\": 30866.732951835955}, {\"id\": 327041, \"gender\": \"Female\", \"age\": 22, \"region_code\": 46.0, \"policy_sales_channel\": 152.0, \"driving_license\": 1, \"vehicle_age\": \"below_1_year\", \"vehicle_damage\": \"Yes\", \"previously_insured\": 0, \"annual_premium\": 29455.0, \"vintage\": 55, \"response\": 0, \"premium_per_vintage\": 535.5454545454545, \"insurance_age\": 5, \"premium_per_age\": 30812.842054263565}, {\"id\": 351349, \"gender\": \"Female\", \"age\": 26, \"region_code\": 36.0, \"policy_sales_channel\": 152.0, \"driving_license\": 1, \"vehicle_age\": \"below_1_year\", \"vehicle_damage\": \"Yes\", \"previously_insured\": 1, \"annual_premium\": 51136.0, \"vintage\": 117, \"response\": 0, \"premium_per_vintage\": 437.05982905982904, \"insurance_age\": 3, \"premium_per_age\": 29845.26958362738}, {\"id\": 157920, \"gender\": \"Female\", \"age\": 25, \"region_code\": 28.0, \"policy_sales_channel\": 152.0, \"driving_license\": 1, \"vehicle_age\": \"below_1_year\", \"vehicle_damage\": \"Yes\", \"previously_insured\": 0, \"annual_premium\": 34502.0, \"vintage\": 298, \"response\": 0, \"premium_per_vintage\": 115.77852348993288, \"insurance_age\": 5, \"premium_per_age\": 30866.732951835955}, {\"id\": 184940, \"gender\": \"Male\", \"age\": 59, \"region_code\": 28.0, \"policy_sales_channel\": 124.0, \"driving_license\": 1, \"vehicle_age\": \"between_1_2_year\", \"vehicle_damage\": \"Yes\", \"previously_insured\": 0, \"annual_premium\": 2630.0, \"vintage\": 166, \"response\": 0, \"premium_per_vintage\": 15.843373493975903, \"insurance_age\": 1, \"premium_per_age\": 32117.406779661018}, {\"id\": 273199, \"gender\": \"Male\", \"age\": 24, \"region_code\": 31.0, \"policy_sales_channel\": 152.0, \"driving_license\": 1, \"vehicle_age\": \"below_1_year\", \"vehicle_damage\": \"No\", \"previously_insured\": 0, \"annual_premium\": 2630.0, \"vintage\": 34, \"response\": 0, \"premium_per_vintage\": 77.3529411764706, \"insurance_age\": 5, \"premium_per_age\": 31169.456085072863}, {\"id\": 38580, \"gender\": \"Female\", \"age\": 46, \"region_code\": 28.0, \"policy_sales_channel\": 26.0, \"driving_license\": 1, \"vehicle_age\": \"between_1_2_year\", \"vehicle_damage\": \"Yes\", \"previously_insured\": 0, \"annual_premium\": 2630.0, \"vintage\": 148, \"response\": 0, \"premium_per_vintage\": 17.77027027027027, \"insurance_age\": 2, \"premium_per_age\": 31768.631105398457}, {\"id\": 263965, \"gender\": \"Male\", \"age\": 50, \"region_code\": 30.0, \"policy_sales_channel\": 124.0, \"driving_license\": 1, \"vehicle_age\": \"over_2_years\", \"vehicle_damage\": \"Yes\", \"previously_insured\": 0, \"annual_premium\": 2630.0, \"vintage\": 167, \"response\": 0, \"premium_per_vintage\": 15.748502994011975, \"insurance_age\": 1, \"premium_per_age\": 33274.475590551185}, {\"id\": 12, \"gender\": \"Female\", \"age\": 24, \"region_code\": 50.0, \"policy_sales_channel\": 152.0, \"driving_license\": 1, \"vehicle_age\": \"below_1_year\", \"vehicle_damage\": \"No\", \"previously_insured\": 1, \"annual_premium\": 48699.0, \"vintage\": 289, \"response\": 0, \"premium_per_vintage\": 168.50865051903114, \"insurance_age\": 5, \"premium_per_age\": 31169.456085072863}, {\"id\": 35314, \"gender\": \"Male\", \"age\": 40, \"region_code\": 14.0, \"policy_sales_channel\": 26.0, \"driving_license\": 1, \"vehicle_age\": \"between_1_2_year\", \"vehicle_damage\": \"No\", \"previously_insured\": 1, \"annual_premium\": 29432.0, \"vintage\": 93, \"response\": 0, \"premium_per_vintage\": 316.4731182795699, \"insurance_age\": 2, \"premium_per_age\": 29653.334821428572}, {\"id\": 269363, \"gender\": \"Female\", \"age\": 30, \"region_code\": 35.0, \"policy_sales_channel\": 26.0, \"driving_license\": 1, \"vehicle_age\": \"below_1_year\", \"vehicle_damage\": \"Yes\", \"previously_insured\": 0, \"annual_premium\": 22075.0, \"vintage\": 27, \"response\": 0, \"premium_per_vintage\": 817.5925925925926, \"insurance_age\": 3, \"premium_per_age\": 28380.77414330218}, {\"id\": 351566, \"gender\": \"Male\", \"age\": 22, \"region_code\": 46.0, \"policy_sales_channel\": 152.0, \"driving_license\": 1, \"vehicle_age\": \"below_1_year\", \"vehicle_damage\": \"No\", \"previously_insured\": 1, \"annual_premium\": 29748.0, \"vintage\": 96, \"response\": 0, \"premium_per_vintage\": 309.875, \"insurance_age\": 5, \"premium_per_age\": 30812.842054263565}, {\"id\": 225656, \"gender\": \"Female\", \"age\": 41, \"region_code\": 28.0, \"policy_sales_channel\": 157.0, \"driving_license\": 1, \"vehicle_age\": \"between_1_2_year\", \"vehicle_damage\": \"Yes\", \"previously_insured\": 0, \"annual_premium\": 38529.0, \"vintage\": 80, \"response\": 0, \"premium_per_vintage\": 481.6125, \"insurance_age\": 2, \"premium_per_age\": 29637.644918444166}]'"
      ]
     },
     "execution_count": 7,
     "metadata": {},
     "output_type": "execute_result"
    }
   ],
   "source": [
    "data"
   ]
  },
  {
   "cell_type": "code",
   "execution_count": 22,
   "metadata": {},
   "outputs": [
    {
     "name": "stdout",
     "output_type": "stream",
     "text": [
      "Loaded!\n",
      "\n",
      "----- INITIALIZING SERVER -----\n",
      "\n",
      " * Serving Flask app \"__main__\" (lazy loading)\n",
      " * Environment: production\n",
      "\u001b[31m   WARNING: This is a development server. Do not use it in a production deployment.\u001b[0m\n",
      "\u001b[2m   Use a production WSGI server instead.\u001b[0m\n",
      " * Debug mode: on\n"
     ]
    },
    {
     "name": "stderr",
     "output_type": "stream",
     "text": [
      " * Running on http://0.0.0.0.:5000/ (Press CTRL+C to quit)\n",
      " * Restarting with stat\n",
      "/home/gutto/.pyenv/versions/3.9.9/envs/pa004/lib/python3.9/site-packages/traitlets/traitlets.py:2202: FutureWarning: Supporting extra quotes around strings is deprecated in traitlets 5.0. You can use 'hmac-sha256' instead of '\"hmac-sha256\"' if you require traitlets >=5.\n",
      "  warn(\n",
      "/home/gutto/.pyenv/versions/3.9.9/envs/pa004/lib/python3.9/site-packages/traitlets/traitlets.py:2157: FutureWarning: Supporting extra quotes around Bytes is deprecated in traitlets 5.0. Use '16bc28e2-c0f9-420a-b8a0-981f490b2236' instead of 'b\"16bc28e2-c0f9-420a-b8a0-981f490b2236\"'.\n",
      "  warn(\n",
      "Traceback (most recent call last):\n",
      "  File \"/home/gutto/.pyenv/versions/3.9.9/envs/pa004/lib/python3.9/site-packages/ipykernel_launcher.py\", line 16, in <module>\n",
      "    app.launch_new_instance()\n",
      "  File \"/home/gutto/.pyenv/versions/3.9.9/envs/pa004/lib/python3.9/site-packages/traitlets/config/application.py\", line 845, in launch_instance\n",
      "    app.initialize(argv)\n",
      "  File \"/home/gutto/.pyenv/versions/3.9.9/envs/pa004/lib/python3.9/site-packages/traitlets/config/application.py\", line 88, in inner\n",
      "    return method(app, *args, **kwargs)\n",
      "  File \"/home/gutto/.pyenv/versions/3.9.9/envs/pa004/lib/python3.9/site-packages/ipykernel/kernelapp.py\", line 632, in initialize\n",
      "    self.init_sockets()\n",
      "  File \"/home/gutto/.pyenv/versions/3.9.9/envs/pa004/lib/python3.9/site-packages/ipykernel/kernelapp.py\", line 282, in init_sockets\n",
      "    self.shell_port = self._bind_socket(self.shell_socket, self.shell_port)\n",
      "  File \"/home/gutto/.pyenv/versions/3.9.9/envs/pa004/lib/python3.9/site-packages/ipykernel/kernelapp.py\", line 229, in _bind_socket\n",
      "    return self._try_bind_socket(s, port)\n",
      "  File \"/home/gutto/.pyenv/versions/3.9.9/envs/pa004/lib/python3.9/site-packages/ipykernel/kernelapp.py\", line 205, in _try_bind_socket\n",
      "    s.bind(\"tcp://%s:%i\" % (self.ip, port))\n",
      "  File \"/home/gutto/.pyenv/versions/3.9.9/envs/pa004/lib/python3.9/site-packages/zmq/sugar/socket.py\", line 214, in bind\n",
      "    super().bind(addr)\n",
      "  File \"zmq/backend/cython/socket.pyx\", line 540, in zmq.backend.cython.socket.Socket.bind\n",
      "  File \"zmq/backend/cython/checkrc.pxd\", line 28, in zmq.backend.cython.checkrc._check_rc\n",
      "zmq.error.ZMQError: Address already in use\n"
     ]
    },
    {
     "ename": "SystemExit",
     "evalue": "1",
     "output_type": "error",
     "traceback": [
      "An exception has occurred, use %tb to see the full traceback.\n",
      "\u001b[0;31mSystemExit\u001b[0m\u001b[0;31m:\u001b[0m 1\n"
     ]
    },
    {
     "name": "stderr",
     "output_type": "stream",
     "text": [
      "/home/gutto/.pyenv/versions/3.9.9/envs/pa004/lib/python3.9/site-packages/IPython/core/interactiveshell.py:3465: UserWarning: To exit: use 'exit', 'quit', or Ctrl-D.\n",
      "  warn(\"To exit: use 'exit', 'quit', or Ctrl-D.\", stacklevel=1)\n"
     ]
    }
   ],
   "source": [
    "import os\n",
    "import pickle\n",
    "import pandas as pd\n",
    "from flask import Flask, request, Response\n",
    "from HealthInsurance import HealthInsurance\n",
    "\n",
    "path = '/home/gutto/Repos/Insurance-Cross-Sell/src/model/cross_sell.pkl'\n",
    "#path = '/model/cross_sell.pkl'\n",
    "\n",
    "# loading model\n",
    "model = pickle.load(open(path, 'rb'))\n",
    "print('Loaded!')\n",
    "\n",
    "print('\\n----- INITIALIZING SERVER -----\\n')\n",
    "\n",
    "# API\n",
    "app = Flask(__name__)\n",
    "\n",
    "@app.route('/predict', methods = ['POST'])\n",
    "def healthinsurance_prediction():\n",
    "    test_json = request.get_json()\n",
    "\n",
    "    if test_json:\n",
    "        if isinstance(test_json, dict): # unique example\n",
    "            test_raw = pd.DataFrame(test_json, index = [0])\n",
    "        else: # multiple examples\n",
    "            test_raw = pd.DataFrame(test_json, columns = test_json[0].keys())\n",
    "        \n",
    "        # Healthinsurance class\n",
    "        pipeline = HealthInsurance()\n",
    "\n",
    "        # data cleaning\n",
    "        df1 = pipeline.data_cleaning(test_raw)\n",
    "\n",
    "        # feature_engineering\n",
    "        df2 = pipeline.feature_engineering(df1)\n",
    "\n",
    "        # data preparation\n",
    "        df3 = pipeline.data_preparation(df2)\n",
    "\n",
    "        # prediction\n",
    "        df_response = pipeline.get_prediction(model, test_raw, df3)\n",
    "        \n",
    "        return df_response\n",
    "\n",
    "    else:\n",
    "        return Response('{}', status = 200, mimetype = 'application/json')\n",
    "\n",
    "\n",
    "if __name__ == '__main__':\n",
    "    port = os.environ.get('PORT', 5000)\n",
    "    app.run('0.0.0.0.', port = port, debug = True)"
   ]
  },
  {
   "cell_type": "code",
   "execution_count": 23,
   "metadata": {},
   "outputs": [
    {
     "ename": "KeyboardInterrupt",
     "evalue": "",
     "output_type": "error",
     "traceback": [
      "\u001b[0;31m---------------------------------------------------------------------------\u001b[0m",
      "\u001b[0;31mKeyboardInterrupt\u001b[0m                         Traceback (most recent call last)",
      "\u001b[0;32m/tmp/ipykernel_18398/102961618.py\u001b[0m in \u001b[0;36m<module>\u001b[0;34m\u001b[0m\n\u001b[1;32m      4\u001b[0m \u001b[0mheader\u001b[0m \u001b[0;34m=\u001b[0m \u001b[0;34m{\u001b[0m\u001b[0;34m'Content-type'\u001b[0m\u001b[0;34m:\u001b[0m \u001b[0;34m'application/json'\u001b[0m\u001b[0;34m}\u001b[0m\u001b[0;34m\u001b[0m\u001b[0;34m\u001b[0m\u001b[0m\n\u001b[1;32m      5\u001b[0m \u001b[0;34m\u001b[0m\u001b[0m\n\u001b[0;32m----> 6\u001b[0;31m \u001b[0mr\u001b[0m \u001b[0;34m=\u001b[0m \u001b[0mrequests\u001b[0m\u001b[0;34m.\u001b[0m\u001b[0mpost\u001b[0m\u001b[0;34m(\u001b[0m\u001b[0murl\u001b[0m\u001b[0;34m,\u001b[0m \u001b[0mdata\u001b[0m\u001b[0;34m=\u001b[0m\u001b[0mdata\u001b[0m\u001b[0;34m,\u001b[0m \u001b[0mheaders\u001b[0m\u001b[0;34m=\u001b[0m\u001b[0mheader\u001b[0m\u001b[0;34m)\u001b[0m\u001b[0;34m\u001b[0m\u001b[0;34m\u001b[0m\u001b[0m\n\u001b[0m\u001b[1;32m      7\u001b[0m \u001b[0mprint\u001b[0m\u001b[0;34m(\u001b[0m\u001b[0;34mf'Status Code {r.status_code}'\u001b[0m\u001b[0;34m)\u001b[0m\u001b[0;34m\u001b[0m\u001b[0;34m\u001b[0m\u001b[0m\n",
      "\u001b[0;32m~/.pyenv/versions/3.9.9/envs/pa004/lib/python3.9/site-packages/requests/api.py\u001b[0m in \u001b[0;36mpost\u001b[0;34m(url, data, json, **kwargs)\u001b[0m\n\u001b[1;32m    115\u001b[0m     \"\"\"\n\u001b[1;32m    116\u001b[0m \u001b[0;34m\u001b[0m\u001b[0m\n\u001b[0;32m--> 117\u001b[0;31m     \u001b[0;32mreturn\u001b[0m \u001b[0mrequest\u001b[0m\u001b[0;34m(\u001b[0m\u001b[0;34m'post'\u001b[0m\u001b[0;34m,\u001b[0m \u001b[0murl\u001b[0m\u001b[0;34m,\u001b[0m \u001b[0mdata\u001b[0m\u001b[0;34m=\u001b[0m\u001b[0mdata\u001b[0m\u001b[0;34m,\u001b[0m \u001b[0mjson\u001b[0m\u001b[0;34m=\u001b[0m\u001b[0mjson\u001b[0m\u001b[0;34m,\u001b[0m \u001b[0;34m**\u001b[0m\u001b[0mkwargs\u001b[0m\u001b[0;34m)\u001b[0m\u001b[0;34m\u001b[0m\u001b[0;34m\u001b[0m\u001b[0m\n\u001b[0m\u001b[1;32m    118\u001b[0m \u001b[0;34m\u001b[0m\u001b[0m\n\u001b[1;32m    119\u001b[0m \u001b[0;34m\u001b[0m\u001b[0m\n",
      "\u001b[0;32m~/.pyenv/versions/3.9.9/envs/pa004/lib/python3.9/site-packages/requests/api.py\u001b[0m in \u001b[0;36mrequest\u001b[0;34m(method, url, **kwargs)\u001b[0m\n\u001b[1;32m     59\u001b[0m     \u001b[0;31m# cases, and look like a memory leak in others.\u001b[0m\u001b[0;34m\u001b[0m\u001b[0;34m\u001b[0m\u001b[0m\n\u001b[1;32m     60\u001b[0m     \u001b[0;32mwith\u001b[0m \u001b[0msessions\u001b[0m\u001b[0;34m.\u001b[0m\u001b[0mSession\u001b[0m\u001b[0;34m(\u001b[0m\u001b[0;34m)\u001b[0m \u001b[0;32mas\u001b[0m \u001b[0msession\u001b[0m\u001b[0;34m:\u001b[0m\u001b[0;34m\u001b[0m\u001b[0;34m\u001b[0m\u001b[0m\n\u001b[0;32m---> 61\u001b[0;31m         \u001b[0;32mreturn\u001b[0m \u001b[0msession\u001b[0m\u001b[0;34m.\u001b[0m\u001b[0mrequest\u001b[0m\u001b[0;34m(\u001b[0m\u001b[0mmethod\u001b[0m\u001b[0;34m=\u001b[0m\u001b[0mmethod\u001b[0m\u001b[0;34m,\u001b[0m \u001b[0murl\u001b[0m\u001b[0;34m=\u001b[0m\u001b[0murl\u001b[0m\u001b[0;34m,\u001b[0m \u001b[0;34m**\u001b[0m\u001b[0mkwargs\u001b[0m\u001b[0;34m)\u001b[0m\u001b[0;34m\u001b[0m\u001b[0;34m\u001b[0m\u001b[0m\n\u001b[0m\u001b[1;32m     62\u001b[0m \u001b[0;34m\u001b[0m\u001b[0m\n\u001b[1;32m     63\u001b[0m \u001b[0;34m\u001b[0m\u001b[0m\n",
      "\u001b[0;32m~/.pyenv/versions/3.9.9/envs/pa004/lib/python3.9/site-packages/requests/sessions.py\u001b[0m in \u001b[0;36mrequest\u001b[0;34m(self, method, url, params, data, headers, cookies, files, auth, timeout, allow_redirects, proxies, hooks, stream, verify, cert, json)\u001b[0m\n\u001b[1;32m    540\u001b[0m         }\n\u001b[1;32m    541\u001b[0m         \u001b[0msend_kwargs\u001b[0m\u001b[0;34m.\u001b[0m\u001b[0mupdate\u001b[0m\u001b[0;34m(\u001b[0m\u001b[0msettings\u001b[0m\u001b[0;34m)\u001b[0m\u001b[0;34m\u001b[0m\u001b[0;34m\u001b[0m\u001b[0m\n\u001b[0;32m--> 542\u001b[0;31m         \u001b[0mresp\u001b[0m \u001b[0;34m=\u001b[0m \u001b[0mself\u001b[0m\u001b[0;34m.\u001b[0m\u001b[0msend\u001b[0m\u001b[0;34m(\u001b[0m\u001b[0mprep\u001b[0m\u001b[0;34m,\u001b[0m \u001b[0;34m**\u001b[0m\u001b[0msend_kwargs\u001b[0m\u001b[0;34m)\u001b[0m\u001b[0;34m\u001b[0m\u001b[0;34m\u001b[0m\u001b[0m\n\u001b[0m\u001b[1;32m    543\u001b[0m \u001b[0;34m\u001b[0m\u001b[0m\n\u001b[1;32m    544\u001b[0m         \u001b[0;32mreturn\u001b[0m \u001b[0mresp\u001b[0m\u001b[0;34m\u001b[0m\u001b[0;34m\u001b[0m\u001b[0m\n",
      "\u001b[0;32m~/.pyenv/versions/3.9.9/envs/pa004/lib/python3.9/site-packages/requests/sessions.py\u001b[0m in \u001b[0;36msend\u001b[0;34m(self, request, **kwargs)\u001b[0m\n\u001b[1;32m    653\u001b[0m \u001b[0;34m\u001b[0m\u001b[0m\n\u001b[1;32m    654\u001b[0m         \u001b[0;31m# Send the request\u001b[0m\u001b[0;34m\u001b[0m\u001b[0;34m\u001b[0m\u001b[0m\n\u001b[0;32m--> 655\u001b[0;31m         \u001b[0mr\u001b[0m \u001b[0;34m=\u001b[0m \u001b[0madapter\u001b[0m\u001b[0;34m.\u001b[0m\u001b[0msend\u001b[0m\u001b[0;34m(\u001b[0m\u001b[0mrequest\u001b[0m\u001b[0;34m,\u001b[0m \u001b[0;34m**\u001b[0m\u001b[0mkwargs\u001b[0m\u001b[0;34m)\u001b[0m\u001b[0;34m\u001b[0m\u001b[0;34m\u001b[0m\u001b[0m\n\u001b[0m\u001b[1;32m    656\u001b[0m \u001b[0;34m\u001b[0m\u001b[0m\n\u001b[1;32m    657\u001b[0m         \u001b[0;31m# Total elapsed time of the request (approximately)\u001b[0m\u001b[0;34m\u001b[0m\u001b[0;34m\u001b[0m\u001b[0m\n",
      "\u001b[0;32m~/.pyenv/versions/3.9.9/envs/pa004/lib/python3.9/site-packages/requests/adapters.py\u001b[0m in \u001b[0;36msend\u001b[0;34m(self, request, stream, timeout, verify, cert, proxies)\u001b[0m\n\u001b[1;32m    437\u001b[0m         \u001b[0;32mtry\u001b[0m\u001b[0;34m:\u001b[0m\u001b[0;34m\u001b[0m\u001b[0;34m\u001b[0m\u001b[0m\n\u001b[1;32m    438\u001b[0m             \u001b[0;32mif\u001b[0m \u001b[0;32mnot\u001b[0m \u001b[0mchunked\u001b[0m\u001b[0;34m:\u001b[0m\u001b[0;34m\u001b[0m\u001b[0;34m\u001b[0m\u001b[0m\n\u001b[0;32m--> 439\u001b[0;31m                 resp = conn.urlopen(\n\u001b[0m\u001b[1;32m    440\u001b[0m                     \u001b[0mmethod\u001b[0m\u001b[0;34m=\u001b[0m\u001b[0mrequest\u001b[0m\u001b[0;34m.\u001b[0m\u001b[0mmethod\u001b[0m\u001b[0;34m,\u001b[0m\u001b[0;34m\u001b[0m\u001b[0;34m\u001b[0m\u001b[0m\n\u001b[1;32m    441\u001b[0m                     \u001b[0murl\u001b[0m\u001b[0;34m=\u001b[0m\u001b[0murl\u001b[0m\u001b[0;34m,\u001b[0m\u001b[0;34m\u001b[0m\u001b[0;34m\u001b[0m\u001b[0m\n",
      "\u001b[0;32m~/.pyenv/versions/3.9.9/envs/pa004/lib/python3.9/site-packages/urllib3/connectionpool.py\u001b[0m in \u001b[0;36murlopen\u001b[0;34m(self, method, url, body, headers, retries, redirect, assert_same_host, timeout, pool_timeout, release_conn, chunked, body_pos, **response_kw)\u001b[0m\n\u001b[1;32m    697\u001b[0m \u001b[0;34m\u001b[0m\u001b[0m\n\u001b[1;32m    698\u001b[0m             \u001b[0;31m# Make the request on the httplib connection object.\u001b[0m\u001b[0;34m\u001b[0m\u001b[0;34m\u001b[0m\u001b[0m\n\u001b[0;32m--> 699\u001b[0;31m             httplib_response = self._make_request(\n\u001b[0m\u001b[1;32m    700\u001b[0m                 \u001b[0mconn\u001b[0m\u001b[0;34m,\u001b[0m\u001b[0;34m\u001b[0m\u001b[0;34m\u001b[0m\u001b[0m\n\u001b[1;32m    701\u001b[0m                 \u001b[0mmethod\u001b[0m\u001b[0;34m,\u001b[0m\u001b[0;34m\u001b[0m\u001b[0;34m\u001b[0m\u001b[0m\n",
      "\u001b[0;32m~/.pyenv/versions/3.9.9/envs/pa004/lib/python3.9/site-packages/urllib3/connectionpool.py\u001b[0m in \u001b[0;36m_make_request\u001b[0;34m(self, conn, method, url, timeout, chunked, **httplib_request_kw)\u001b[0m\n\u001b[1;32m    443\u001b[0m                     \u001b[0;31m# Python 3 (including for exceptions like SystemExit).\u001b[0m\u001b[0;34m\u001b[0m\u001b[0;34m\u001b[0m\u001b[0m\n\u001b[1;32m    444\u001b[0m                     \u001b[0;31m# Otherwise it looks like a bug in the code.\u001b[0m\u001b[0;34m\u001b[0m\u001b[0;34m\u001b[0m\u001b[0m\n\u001b[0;32m--> 445\u001b[0;31m                     \u001b[0msix\u001b[0m\u001b[0;34m.\u001b[0m\u001b[0mraise_from\u001b[0m\u001b[0;34m(\u001b[0m\u001b[0me\u001b[0m\u001b[0;34m,\u001b[0m \u001b[0;32mNone\u001b[0m\u001b[0;34m)\u001b[0m\u001b[0;34m\u001b[0m\u001b[0;34m\u001b[0m\u001b[0m\n\u001b[0m\u001b[1;32m    446\u001b[0m         \u001b[0;32mexcept\u001b[0m \u001b[0;34m(\u001b[0m\u001b[0mSocketTimeout\u001b[0m\u001b[0;34m,\u001b[0m \u001b[0mBaseSSLError\u001b[0m\u001b[0;34m,\u001b[0m \u001b[0mSocketError\u001b[0m\u001b[0;34m)\u001b[0m \u001b[0;32mas\u001b[0m \u001b[0me\u001b[0m\u001b[0;34m:\u001b[0m\u001b[0;34m\u001b[0m\u001b[0;34m\u001b[0m\u001b[0m\n\u001b[1;32m    447\u001b[0m             \u001b[0mself\u001b[0m\u001b[0;34m.\u001b[0m\u001b[0m_raise_timeout\u001b[0m\u001b[0;34m(\u001b[0m\u001b[0merr\u001b[0m\u001b[0;34m=\u001b[0m\u001b[0me\u001b[0m\u001b[0;34m,\u001b[0m \u001b[0murl\u001b[0m\u001b[0;34m=\u001b[0m\u001b[0murl\u001b[0m\u001b[0;34m,\u001b[0m \u001b[0mtimeout_value\u001b[0m\u001b[0;34m=\u001b[0m\u001b[0mread_timeout\u001b[0m\u001b[0;34m)\u001b[0m\u001b[0;34m\u001b[0m\u001b[0;34m\u001b[0m\u001b[0m\n",
      "\u001b[0;32m~/.pyenv/versions/3.9.9/envs/pa004/lib/python3.9/site-packages/urllib3/packages/six.py\u001b[0m in \u001b[0;36mraise_from\u001b[0;34m(value, from_value)\u001b[0m\n",
      "\u001b[0;32m~/.pyenv/versions/3.9.9/envs/pa004/lib/python3.9/site-packages/urllib3/connectionpool.py\u001b[0m in \u001b[0;36m_make_request\u001b[0;34m(self, conn, method, url, timeout, chunked, **httplib_request_kw)\u001b[0m\n\u001b[1;32m    438\u001b[0m                 \u001b[0;31m# Python 3\u001b[0m\u001b[0;34m\u001b[0m\u001b[0;34m\u001b[0m\u001b[0m\n\u001b[1;32m    439\u001b[0m                 \u001b[0;32mtry\u001b[0m\u001b[0;34m:\u001b[0m\u001b[0;34m\u001b[0m\u001b[0;34m\u001b[0m\u001b[0m\n\u001b[0;32m--> 440\u001b[0;31m                     \u001b[0mhttplib_response\u001b[0m \u001b[0;34m=\u001b[0m \u001b[0mconn\u001b[0m\u001b[0;34m.\u001b[0m\u001b[0mgetresponse\u001b[0m\u001b[0;34m(\u001b[0m\u001b[0;34m)\u001b[0m\u001b[0;34m\u001b[0m\u001b[0;34m\u001b[0m\u001b[0m\n\u001b[0m\u001b[1;32m    441\u001b[0m                 \u001b[0;32mexcept\u001b[0m \u001b[0mBaseException\u001b[0m \u001b[0;32mas\u001b[0m \u001b[0me\u001b[0m\u001b[0;34m:\u001b[0m\u001b[0;34m\u001b[0m\u001b[0;34m\u001b[0m\u001b[0m\n\u001b[1;32m    442\u001b[0m                     \u001b[0;31m# Remove the TypeError from the exception chain in\u001b[0m\u001b[0;34m\u001b[0m\u001b[0;34m\u001b[0m\u001b[0m\n",
      "\u001b[0;32m~/.pyenv/versions/3.9.9/lib/python3.9/http/client.py\u001b[0m in \u001b[0;36mgetresponse\u001b[0;34m(self)\u001b[0m\n\u001b[1;32m   1375\u001b[0m         \u001b[0;32mtry\u001b[0m\u001b[0;34m:\u001b[0m\u001b[0;34m\u001b[0m\u001b[0;34m\u001b[0m\u001b[0m\n\u001b[1;32m   1376\u001b[0m             \u001b[0;32mtry\u001b[0m\u001b[0;34m:\u001b[0m\u001b[0;34m\u001b[0m\u001b[0;34m\u001b[0m\u001b[0m\n\u001b[0;32m-> 1377\u001b[0;31m                 \u001b[0mresponse\u001b[0m\u001b[0;34m.\u001b[0m\u001b[0mbegin\u001b[0m\u001b[0;34m(\u001b[0m\u001b[0;34m)\u001b[0m\u001b[0;34m\u001b[0m\u001b[0;34m\u001b[0m\u001b[0m\n\u001b[0m\u001b[1;32m   1378\u001b[0m             \u001b[0;32mexcept\u001b[0m \u001b[0mConnectionError\u001b[0m\u001b[0;34m:\u001b[0m\u001b[0;34m\u001b[0m\u001b[0;34m\u001b[0m\u001b[0m\n\u001b[1;32m   1379\u001b[0m                 \u001b[0mself\u001b[0m\u001b[0;34m.\u001b[0m\u001b[0mclose\u001b[0m\u001b[0;34m(\u001b[0m\u001b[0;34m)\u001b[0m\u001b[0;34m\u001b[0m\u001b[0;34m\u001b[0m\u001b[0m\n",
      "\u001b[0;32m~/.pyenv/versions/3.9.9/lib/python3.9/http/client.py\u001b[0m in \u001b[0;36mbegin\u001b[0;34m(self)\u001b[0m\n\u001b[1;32m    318\u001b[0m         \u001b[0;31m# read until we get a non-100 response\u001b[0m\u001b[0;34m\u001b[0m\u001b[0;34m\u001b[0m\u001b[0m\n\u001b[1;32m    319\u001b[0m         \u001b[0;32mwhile\u001b[0m \u001b[0;32mTrue\u001b[0m\u001b[0;34m:\u001b[0m\u001b[0;34m\u001b[0m\u001b[0;34m\u001b[0m\u001b[0m\n\u001b[0;32m--> 320\u001b[0;31m             \u001b[0mversion\u001b[0m\u001b[0;34m,\u001b[0m \u001b[0mstatus\u001b[0m\u001b[0;34m,\u001b[0m \u001b[0mreason\u001b[0m \u001b[0;34m=\u001b[0m \u001b[0mself\u001b[0m\u001b[0;34m.\u001b[0m\u001b[0m_read_status\u001b[0m\u001b[0;34m(\u001b[0m\u001b[0;34m)\u001b[0m\u001b[0;34m\u001b[0m\u001b[0;34m\u001b[0m\u001b[0m\n\u001b[0m\u001b[1;32m    321\u001b[0m             \u001b[0;32mif\u001b[0m \u001b[0mstatus\u001b[0m \u001b[0;34m!=\u001b[0m \u001b[0mCONTINUE\u001b[0m\u001b[0;34m:\u001b[0m\u001b[0;34m\u001b[0m\u001b[0;34m\u001b[0m\u001b[0m\n\u001b[1;32m    322\u001b[0m                 \u001b[0;32mbreak\u001b[0m\u001b[0;34m\u001b[0m\u001b[0;34m\u001b[0m\u001b[0m\n",
      "\u001b[0;32m~/.pyenv/versions/3.9.9/lib/python3.9/http/client.py\u001b[0m in \u001b[0;36m_read_status\u001b[0;34m(self)\u001b[0m\n\u001b[1;32m    279\u001b[0m \u001b[0;34m\u001b[0m\u001b[0m\n\u001b[1;32m    280\u001b[0m     \u001b[0;32mdef\u001b[0m \u001b[0m_read_status\u001b[0m\u001b[0;34m(\u001b[0m\u001b[0mself\u001b[0m\u001b[0;34m)\u001b[0m\u001b[0;34m:\u001b[0m\u001b[0;34m\u001b[0m\u001b[0;34m\u001b[0m\u001b[0m\n\u001b[0;32m--> 281\u001b[0;31m         \u001b[0mline\u001b[0m \u001b[0;34m=\u001b[0m \u001b[0mstr\u001b[0m\u001b[0;34m(\u001b[0m\u001b[0mself\u001b[0m\u001b[0;34m.\u001b[0m\u001b[0mfp\u001b[0m\u001b[0;34m.\u001b[0m\u001b[0mreadline\u001b[0m\u001b[0;34m(\u001b[0m\u001b[0m_MAXLINE\u001b[0m \u001b[0;34m+\u001b[0m \u001b[0;36m1\u001b[0m\u001b[0;34m)\u001b[0m\u001b[0;34m,\u001b[0m \u001b[0;34m\"iso-8859-1\"\u001b[0m\u001b[0;34m)\u001b[0m\u001b[0;34m\u001b[0m\u001b[0;34m\u001b[0m\u001b[0m\n\u001b[0m\u001b[1;32m    282\u001b[0m         \u001b[0;32mif\u001b[0m \u001b[0mlen\u001b[0m\u001b[0;34m(\u001b[0m\u001b[0mline\u001b[0m\u001b[0;34m)\u001b[0m \u001b[0;34m>\u001b[0m \u001b[0m_MAXLINE\u001b[0m\u001b[0;34m:\u001b[0m\u001b[0;34m\u001b[0m\u001b[0;34m\u001b[0m\u001b[0m\n\u001b[1;32m    283\u001b[0m             \u001b[0;32mraise\u001b[0m \u001b[0mLineTooLong\u001b[0m\u001b[0;34m(\u001b[0m\u001b[0;34m\"status line\"\u001b[0m\u001b[0;34m)\u001b[0m\u001b[0;34m\u001b[0m\u001b[0;34m\u001b[0m\u001b[0m\n",
      "\u001b[0;32m~/.pyenv/versions/3.9.9/lib/python3.9/socket.py\u001b[0m in \u001b[0;36mreadinto\u001b[0;34m(self, b)\u001b[0m\n\u001b[1;32m    702\u001b[0m         \u001b[0;32mwhile\u001b[0m \u001b[0;32mTrue\u001b[0m\u001b[0;34m:\u001b[0m\u001b[0;34m\u001b[0m\u001b[0;34m\u001b[0m\u001b[0m\n\u001b[1;32m    703\u001b[0m             \u001b[0;32mtry\u001b[0m\u001b[0;34m:\u001b[0m\u001b[0;34m\u001b[0m\u001b[0;34m\u001b[0m\u001b[0m\n\u001b[0;32m--> 704\u001b[0;31m                 \u001b[0;32mreturn\u001b[0m \u001b[0mself\u001b[0m\u001b[0;34m.\u001b[0m\u001b[0m_sock\u001b[0m\u001b[0;34m.\u001b[0m\u001b[0mrecv_into\u001b[0m\u001b[0;34m(\u001b[0m\u001b[0mb\u001b[0m\u001b[0;34m)\u001b[0m\u001b[0;34m\u001b[0m\u001b[0;34m\u001b[0m\u001b[0m\n\u001b[0m\u001b[1;32m    705\u001b[0m             \u001b[0;32mexcept\u001b[0m \u001b[0mtimeout\u001b[0m\u001b[0;34m:\u001b[0m\u001b[0;34m\u001b[0m\u001b[0;34m\u001b[0m\u001b[0m\n\u001b[1;32m    706\u001b[0m                 \u001b[0mself\u001b[0m\u001b[0;34m.\u001b[0m\u001b[0m_timeout_occurred\u001b[0m \u001b[0;34m=\u001b[0m \u001b[0;32mTrue\u001b[0m\u001b[0;34m\u001b[0m\u001b[0;34m\u001b[0m\u001b[0m\n",
      "\u001b[0;31mKeyboardInterrupt\u001b[0m: "
     ]
    }
   ],
   "source": [
    "# API Call\n",
    "url = 'http://0.0.0.0.:5000/'\n",
    "#url = 'https://ins-cross-sell.herokuapp.com/'\n",
    "header = {'Content-type': 'application/json'}\n",
    "\n",
    "r = requests.post(url, data=data, headers=header)\n",
    "print(f'Status Code {r.status_code}')"
   ]
  },
  {
   "cell_type": "code",
   "execution_count": 16,
   "metadata": {},
   "outputs": [
    {
     "ename": "JSONDecodeError",
     "evalue": "Expecting value: line 1 column 1 (char 0)",
     "output_type": "error",
     "traceback": [
      "\u001b[0;31m---------------------------------------------------------------------------\u001b[0m",
      "\u001b[0;31mJSONDecodeError\u001b[0m                           Traceback (most recent call last)",
      "\u001b[0;32m/tmp/ipykernel_18398/1118822701.py\u001b[0m in \u001b[0;36m<module>\u001b[0;34m\u001b[0m\n\u001b[0;32m----> 1\u001b[0;31m \u001b[0mdf1\u001b[0m \u001b[0;34m=\u001b[0m \u001b[0mpd\u001b[0m\u001b[0;34m.\u001b[0m\u001b[0mDataFrame\u001b[0m\u001b[0;34m(\u001b[0m\u001b[0mr\u001b[0m\u001b[0;34m.\u001b[0m\u001b[0mjson\u001b[0m\u001b[0;34m(\u001b[0m\u001b[0;34m)\u001b[0m\u001b[0;34m,\u001b[0m \u001b[0mcolumns\u001b[0m\u001b[0;34m=\u001b[0m\u001b[0mr\u001b[0m\u001b[0;34m.\u001b[0m\u001b[0mjson\u001b[0m\u001b[0;34m(\u001b[0m\u001b[0;34m)\u001b[0m\u001b[0;34m[\u001b[0m\u001b[0;36m0\u001b[0m\u001b[0;34m]\u001b[0m\u001b[0;34m.\u001b[0m\u001b[0mkeys\u001b[0m\u001b[0;34m(\u001b[0m\u001b[0;34m)\u001b[0m\u001b[0;34m)\u001b[0m\u001b[0;34m\u001b[0m\u001b[0;34m\u001b[0m\u001b[0m\n\u001b[0m\u001b[1;32m      2\u001b[0m \u001b[0mdf1\u001b[0m\u001b[0;34m.\u001b[0m\u001b[0msort_values\u001b[0m\u001b[0;34m(\u001b[0m\u001b[0;34m'score'\u001b[0m\u001b[0;34m,\u001b[0m \u001b[0mascending\u001b[0m\u001b[0;34m=\u001b[0m\u001b[0;32mFalse\u001b[0m\u001b[0;34m)\u001b[0m\u001b[0;34m.\u001b[0m\u001b[0mhead\u001b[0m\u001b[0;34m(\u001b[0m\u001b[0;34m)\u001b[0m\u001b[0;34m\u001b[0m\u001b[0;34m\u001b[0m\u001b[0m\n",
      "\u001b[0;32m~/.pyenv/versions/3.9.9/envs/pa004/lib/python3.9/site-packages/requests/models.py\u001b[0m in \u001b[0;36mjson\u001b[0;34m(self, **kwargs)\u001b[0m\n\u001b[1;32m    908\u001b[0m                     \u001b[0;31m# used.\u001b[0m\u001b[0;34m\u001b[0m\u001b[0;34m\u001b[0m\u001b[0m\n\u001b[1;32m    909\u001b[0m                     \u001b[0;32mpass\u001b[0m\u001b[0;34m\u001b[0m\u001b[0;34m\u001b[0m\u001b[0m\n\u001b[0;32m--> 910\u001b[0;31m         \u001b[0;32mreturn\u001b[0m \u001b[0mcomplexjson\u001b[0m\u001b[0;34m.\u001b[0m\u001b[0mloads\u001b[0m\u001b[0;34m(\u001b[0m\u001b[0mself\u001b[0m\u001b[0;34m.\u001b[0m\u001b[0mtext\u001b[0m\u001b[0;34m,\u001b[0m \u001b[0;34m**\u001b[0m\u001b[0mkwargs\u001b[0m\u001b[0;34m)\u001b[0m\u001b[0;34m\u001b[0m\u001b[0;34m\u001b[0m\u001b[0m\n\u001b[0m\u001b[1;32m    911\u001b[0m \u001b[0;34m\u001b[0m\u001b[0m\n\u001b[1;32m    912\u001b[0m     \u001b[0;34m@\u001b[0m\u001b[0mproperty\u001b[0m\u001b[0;34m\u001b[0m\u001b[0;34m\u001b[0m\u001b[0m\n",
      "\u001b[0;32m~/.pyenv/versions/3.9.9/lib/python3.9/json/__init__.py\u001b[0m in \u001b[0;36mloads\u001b[0;34m(s, cls, object_hook, parse_float, parse_int, parse_constant, object_pairs_hook, **kw)\u001b[0m\n\u001b[1;32m    344\u001b[0m             \u001b[0mparse_int\u001b[0m \u001b[0;32mis\u001b[0m \u001b[0;32mNone\u001b[0m \u001b[0;32mand\u001b[0m \u001b[0mparse_float\u001b[0m \u001b[0;32mis\u001b[0m \u001b[0;32mNone\u001b[0m \u001b[0;32mand\u001b[0m\u001b[0;34m\u001b[0m\u001b[0;34m\u001b[0m\u001b[0m\n\u001b[1;32m    345\u001b[0m             parse_constant is None and object_pairs_hook is None and not kw):\n\u001b[0;32m--> 346\u001b[0;31m         \u001b[0;32mreturn\u001b[0m \u001b[0m_default_decoder\u001b[0m\u001b[0;34m.\u001b[0m\u001b[0mdecode\u001b[0m\u001b[0;34m(\u001b[0m\u001b[0ms\u001b[0m\u001b[0;34m)\u001b[0m\u001b[0;34m\u001b[0m\u001b[0;34m\u001b[0m\u001b[0m\n\u001b[0m\u001b[1;32m    347\u001b[0m     \u001b[0;32mif\u001b[0m \u001b[0mcls\u001b[0m \u001b[0;32mis\u001b[0m \u001b[0;32mNone\u001b[0m\u001b[0;34m:\u001b[0m\u001b[0;34m\u001b[0m\u001b[0;34m\u001b[0m\u001b[0m\n\u001b[1;32m    348\u001b[0m         \u001b[0mcls\u001b[0m \u001b[0;34m=\u001b[0m \u001b[0mJSONDecoder\u001b[0m\u001b[0;34m\u001b[0m\u001b[0;34m\u001b[0m\u001b[0m\n",
      "\u001b[0;32m~/.pyenv/versions/3.9.9/lib/python3.9/json/decoder.py\u001b[0m in \u001b[0;36mdecode\u001b[0;34m(self, s, _w)\u001b[0m\n\u001b[1;32m    335\u001b[0m \u001b[0;34m\u001b[0m\u001b[0m\n\u001b[1;32m    336\u001b[0m         \"\"\"\n\u001b[0;32m--> 337\u001b[0;31m         \u001b[0mobj\u001b[0m\u001b[0;34m,\u001b[0m \u001b[0mend\u001b[0m \u001b[0;34m=\u001b[0m \u001b[0mself\u001b[0m\u001b[0;34m.\u001b[0m\u001b[0mraw_decode\u001b[0m\u001b[0;34m(\u001b[0m\u001b[0ms\u001b[0m\u001b[0;34m,\u001b[0m \u001b[0midx\u001b[0m\u001b[0;34m=\u001b[0m\u001b[0m_w\u001b[0m\u001b[0;34m(\u001b[0m\u001b[0ms\u001b[0m\u001b[0;34m,\u001b[0m \u001b[0;36m0\u001b[0m\u001b[0;34m)\u001b[0m\u001b[0;34m.\u001b[0m\u001b[0mend\u001b[0m\u001b[0;34m(\u001b[0m\u001b[0;34m)\u001b[0m\u001b[0;34m)\u001b[0m\u001b[0;34m\u001b[0m\u001b[0;34m\u001b[0m\u001b[0m\n\u001b[0m\u001b[1;32m    338\u001b[0m         \u001b[0mend\u001b[0m \u001b[0;34m=\u001b[0m \u001b[0m_w\u001b[0m\u001b[0;34m(\u001b[0m\u001b[0ms\u001b[0m\u001b[0;34m,\u001b[0m \u001b[0mend\u001b[0m\u001b[0;34m)\u001b[0m\u001b[0;34m.\u001b[0m\u001b[0mend\u001b[0m\u001b[0;34m(\u001b[0m\u001b[0;34m)\u001b[0m\u001b[0;34m\u001b[0m\u001b[0;34m\u001b[0m\u001b[0m\n\u001b[1;32m    339\u001b[0m         \u001b[0;32mif\u001b[0m \u001b[0mend\u001b[0m \u001b[0;34m!=\u001b[0m \u001b[0mlen\u001b[0m\u001b[0;34m(\u001b[0m\u001b[0ms\u001b[0m\u001b[0;34m)\u001b[0m\u001b[0;34m:\u001b[0m\u001b[0;34m\u001b[0m\u001b[0;34m\u001b[0m\u001b[0m\n",
      "\u001b[0;32m~/.pyenv/versions/3.9.9/lib/python3.9/json/decoder.py\u001b[0m in \u001b[0;36mraw_decode\u001b[0;34m(self, s, idx)\u001b[0m\n\u001b[1;32m    353\u001b[0m             \u001b[0mobj\u001b[0m\u001b[0;34m,\u001b[0m \u001b[0mend\u001b[0m \u001b[0;34m=\u001b[0m \u001b[0mself\u001b[0m\u001b[0;34m.\u001b[0m\u001b[0mscan_once\u001b[0m\u001b[0;34m(\u001b[0m\u001b[0ms\u001b[0m\u001b[0;34m,\u001b[0m \u001b[0midx\u001b[0m\u001b[0;34m)\u001b[0m\u001b[0;34m\u001b[0m\u001b[0;34m\u001b[0m\u001b[0m\n\u001b[1;32m    354\u001b[0m         \u001b[0;32mexcept\u001b[0m \u001b[0mStopIteration\u001b[0m \u001b[0;32mas\u001b[0m \u001b[0merr\u001b[0m\u001b[0;34m:\u001b[0m\u001b[0;34m\u001b[0m\u001b[0;34m\u001b[0m\u001b[0m\n\u001b[0;32m--> 355\u001b[0;31m             \u001b[0;32mraise\u001b[0m \u001b[0mJSONDecodeError\u001b[0m\u001b[0;34m(\u001b[0m\u001b[0;34m\"Expecting value\"\u001b[0m\u001b[0;34m,\u001b[0m \u001b[0ms\u001b[0m\u001b[0;34m,\u001b[0m \u001b[0merr\u001b[0m\u001b[0;34m.\u001b[0m\u001b[0mvalue\u001b[0m\u001b[0;34m)\u001b[0m \u001b[0;32mfrom\u001b[0m \u001b[0;32mNone\u001b[0m\u001b[0;34m\u001b[0m\u001b[0;34m\u001b[0m\u001b[0m\n\u001b[0m\u001b[1;32m    356\u001b[0m         \u001b[0;32mreturn\u001b[0m \u001b[0mobj\u001b[0m\u001b[0;34m,\u001b[0m \u001b[0mend\u001b[0m\u001b[0;34m\u001b[0m\u001b[0;34m\u001b[0m\u001b[0m\n",
      "\u001b[0;31mJSONDecodeError\u001b[0m: Expecting value: line 1 column 1 (char 0)"
     ]
    }
   ],
   "source": [
    "df1 = pd.DataFrame(r.json(), columns=r.json()[0].keys())\n",
    "df1.sort_values('score', ascending=False).head()"
   ]
  }
 ],
 "metadata": {
  "interpreter": {
   "hash": "966047e1bb08f1d67df3f54bb164d058e2fdc7567f43f645fccbe99aac056df9"
  },
  "kernelspec": {
   "display_name": "Python 3.9.9 64-bit ('pa004': pyenv)",
   "language": "python",
   "name": "python3"
  },
  "language_info": {
   "codemirror_mode": {
    "name": "ipython",
    "version": 3
   },
   "file_extension": ".py",
   "mimetype": "text/x-python",
   "name": "python",
   "nbconvert_exporter": "python",
   "pygments_lexer": "ipython3",
   "version": "3.9.9"
  },
  "orig_nbformat": 4
 },
 "nbformat": 4,
 "nbformat_minor": 2
}
